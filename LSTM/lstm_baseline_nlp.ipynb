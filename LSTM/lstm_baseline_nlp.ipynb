{
  "nbformat": 4,
  "nbformat_minor": 0,
  "metadata": {
    "colab": {
      "provenance": [],
      "gpuType": "T4"
    },
    "kernelspec": {
      "name": "python3",
      "display_name": "Python 3"
    },
    "language_info": {
      "name": "python"
    },
    "accelerator": "GPU"
  },
  "cells": [
    {
      "cell_type": "code",
      "source": [
        "import torch\n",
        "import torch.nn as nn\n",
        "import torch.optim as optim\n",
        "import numpy as np\n",
        "import random\n",
        "import pandas as pd"
      ],
      "metadata": {
        "id": "lb94gFZCYgSr"
      },
      "execution_count": null,
      "outputs": []
    },
    {
      "cell_type": "markdown",
      "source": [
        "# Preprocessing and data embeding"
      ],
      "metadata": {
        "id": "GODMme96bpem"
      }
    },
    {
      "cell_type": "code",
      "source": [
        "from google.colab import drive\n",
        "drive.mount('/content/drive')"
      ],
      "metadata": {
        "colab": {
          "base_uri": "https://localhost:8080/"
        },
        "id": "VzBm9aooajlr",
        "outputId": "5b6e8504-0b31-4fcb-81f6-706c4a45007a"
      },
      "execution_count": null,
      "outputs": [
        {
          "output_type": "stream",
          "name": "stdout",
          "text": [
            "Drive already mounted at /content/drive; to attempt to forcibly remount, call drive.mount(\"/content/drive\", force_remount=True).\n"
          ]
        }
      ]
    },
    {
      "cell_type": "markdown",
      "source": [],
      "metadata": {
        "id": "4JMBAI26bv-_"
      }
    },
    {
      "cell_type": "code",
      "source": [
        "data = pd.read_csv('/content/drive/MyDrive/Colab Notebooks/Dataset_nlp_project_BIO.csv')"
      ],
      "metadata": {
        "id": "Rk9oteEqa71u"
      },
      "execution_count": null,
      "outputs": []
    },
    {
      "cell_type": "code",
      "source": [
        "data"
      ],
      "metadata": {
        "colab": {
          "base_uri": "https://localhost:8080/",
          "height": 423
        },
        "id": "slDkawegbw81",
        "outputId": "131b90f6-ad11-4b4f-963a-18f66fe047ed"
      },
      "execution_count": null,
      "outputs": [
        {
          "output_type": "execute_result",
          "data": {
            "text/plain": [
              "     Misspelled Word                                            Context  \\\n",
              "0            @by5m@|                     Such @by5m@| performance today   \n",
              "1              @d3p7                     Your @d3p7 management succeeds   \n",
              "2            afr1can  why does that afr1can american monkey hold gun...   \n",
              "3         @ggr355!v3                    Your @ggr355!v3 approach worked   \n",
              "4              @ggr0                     Such @ggr0 determination helps   \n",
              "...              ...                                                ...   \n",
              "1079        wr37ch3d                         Such wr37ch3d effort again   \n",
              "1080         wooshee  I want to see that wooshee's reaction to this ...   \n",
              "1081         wooshee                       I wanna beat that wooshee up   \n",
              "1082               0                             score no 0s this time.   \n",
              "1083           f@lse  Quit with your f@lse attitude; we all see thro...   \n",
              "\n",
              "     Label (O & N)                                      Output Labels  \n",
              "0                O                             ['S', 'B-O', 'S', 'S']  \n",
              "1                N                             ['S', 'B-N', 'S', 'S']  \n",
              "2                O  ['S', 'S', 'S', 'B-O', 'S', 'S', 'S', 'S', 'S'...  \n",
              "3                N                             ['S', 'B-N', 'S', 'S']  \n",
              "4                N                             ['S', 'B-N', 'S', 'S']  \n",
              "...            ...                                                ...  \n",
              "1079             O                             ['S', 'B-O', 'S', 'S']  \n",
              "1080             O  ['S', 'S', 'S', 'S', 'S', 'B-O', 'S', 'S', 'S'...  \n",
              "1081             O                   ['S', 'S', 'S', 'S', 'B-O', 'S']  \n",
              "1082             N                        ['S', 'S', 'B-N', 'S', 'S']  \n",
              "1083             N  ['S', 'S', 'S', 'B-N', 'S', 'S', 'S', 'S', 'S'...  \n",
              "\n",
              "[1084 rows x 4 columns]"
            ],
            "text/html": [
              "\n",
              "  <div id=\"df-f63f5ec6-526c-4428-a904-ffc4abc6f411\" class=\"colab-df-container\">\n",
              "    <div>\n",
              "<style scoped>\n",
              "    .dataframe tbody tr th:only-of-type {\n",
              "        vertical-align: middle;\n",
              "    }\n",
              "\n",
              "    .dataframe tbody tr th {\n",
              "        vertical-align: top;\n",
              "    }\n",
              "\n",
              "    .dataframe thead th {\n",
              "        text-align: right;\n",
              "    }\n",
              "</style>\n",
              "<table border=\"1\" class=\"dataframe\">\n",
              "  <thead>\n",
              "    <tr style=\"text-align: right;\">\n",
              "      <th></th>\n",
              "      <th>Misspelled Word</th>\n",
              "      <th>Context</th>\n",
              "      <th>Label (O &amp; N)</th>\n",
              "      <th>Output Labels</th>\n",
              "    </tr>\n",
              "  </thead>\n",
              "  <tbody>\n",
              "    <tr>\n",
              "      <th>0</th>\n",
              "      <td>@by5m@|</td>\n",
              "      <td>Such @by5m@| performance today</td>\n",
              "      <td>O</td>\n",
              "      <td>['S', 'B-O', 'S', 'S']</td>\n",
              "    </tr>\n",
              "    <tr>\n",
              "      <th>1</th>\n",
              "      <td>@d3p7</td>\n",
              "      <td>Your @d3p7 management succeeds</td>\n",
              "      <td>N</td>\n",
              "      <td>['S', 'B-N', 'S', 'S']</td>\n",
              "    </tr>\n",
              "    <tr>\n",
              "      <th>2</th>\n",
              "      <td>afr1can</td>\n",
              "      <td>why does that afr1can american monkey hold gun...</td>\n",
              "      <td>O</td>\n",
              "      <td>['S', 'S', 'S', 'B-O', 'S', 'S', 'S', 'S', 'S'...</td>\n",
              "    </tr>\n",
              "    <tr>\n",
              "      <th>3</th>\n",
              "      <td>@ggr355!v3</td>\n",
              "      <td>Your @ggr355!v3 approach worked</td>\n",
              "      <td>N</td>\n",
              "      <td>['S', 'B-N', 'S', 'S']</td>\n",
              "    </tr>\n",
              "    <tr>\n",
              "      <th>4</th>\n",
              "      <td>@ggr0</td>\n",
              "      <td>Such @ggr0 determination helps</td>\n",
              "      <td>N</td>\n",
              "      <td>['S', 'B-N', 'S', 'S']</td>\n",
              "    </tr>\n",
              "    <tr>\n",
              "      <th>...</th>\n",
              "      <td>...</td>\n",
              "      <td>...</td>\n",
              "      <td>...</td>\n",
              "      <td>...</td>\n",
              "    </tr>\n",
              "    <tr>\n",
              "      <th>1079</th>\n",
              "      <td>wr37ch3d</td>\n",
              "      <td>Such wr37ch3d effort again</td>\n",
              "      <td>O</td>\n",
              "      <td>['S', 'B-O', 'S', 'S']</td>\n",
              "    </tr>\n",
              "    <tr>\n",
              "      <th>1080</th>\n",
              "      <td>wooshee</td>\n",
              "      <td>I want to see that wooshee's reaction to this ...</td>\n",
              "      <td>O</td>\n",
              "      <td>['S', 'S', 'S', 'S', 'S', 'B-O', 'S', 'S', 'S'...</td>\n",
              "    </tr>\n",
              "    <tr>\n",
              "      <th>1081</th>\n",
              "      <td>wooshee</td>\n",
              "      <td>I wanna beat that wooshee up</td>\n",
              "      <td>O</td>\n",
              "      <td>['S', 'S', 'S', 'S', 'B-O', 'S']</td>\n",
              "    </tr>\n",
              "    <tr>\n",
              "      <th>1082</th>\n",
              "      <td>0</td>\n",
              "      <td>score no 0s this time.</td>\n",
              "      <td>N</td>\n",
              "      <td>['S', 'S', 'B-N', 'S', 'S']</td>\n",
              "    </tr>\n",
              "    <tr>\n",
              "      <th>1083</th>\n",
              "      <td>f@lse</td>\n",
              "      <td>Quit with your f@lse attitude; we all see thro...</td>\n",
              "      <td>N</td>\n",
              "      <td>['S', 'S', 'S', 'B-N', 'S', 'S', 'S', 'S', 'S'...</td>\n",
              "    </tr>\n",
              "  </tbody>\n",
              "</table>\n",
              "<p>1084 rows × 4 columns</p>\n",
              "</div>\n",
              "    <div class=\"colab-df-buttons\">\n",
              "\n",
              "  <div class=\"colab-df-container\">\n",
              "    <button class=\"colab-df-convert\" onclick=\"convertToInteractive('df-f63f5ec6-526c-4428-a904-ffc4abc6f411')\"\n",
              "            title=\"Convert this dataframe to an interactive table.\"\n",
              "            style=\"display:none;\">\n",
              "\n",
              "  <svg xmlns=\"http://www.w3.org/2000/svg\" height=\"24px\" viewBox=\"0 -960 960 960\">\n",
              "    <path d=\"M120-120v-720h720v720H120Zm60-500h600v-160H180v160Zm220 220h160v-160H400v160Zm0 220h160v-160H400v160ZM180-400h160v-160H180v160Zm440 0h160v-160H620v160ZM180-180h160v-160H180v160Zm440 0h160v-160H620v160Z\"/>\n",
              "  </svg>\n",
              "    </button>\n",
              "\n",
              "  <style>\n",
              "    .colab-df-container {\n",
              "      display:flex;\n",
              "      gap: 12px;\n",
              "    }\n",
              "\n",
              "    .colab-df-convert {\n",
              "      background-color: #E8F0FE;\n",
              "      border: none;\n",
              "      border-radius: 50%;\n",
              "      cursor: pointer;\n",
              "      display: none;\n",
              "      fill: #1967D2;\n",
              "      height: 32px;\n",
              "      padding: 0 0 0 0;\n",
              "      width: 32px;\n",
              "    }\n",
              "\n",
              "    .colab-df-convert:hover {\n",
              "      background-color: #E2EBFA;\n",
              "      box-shadow: 0px 1px 2px rgba(60, 64, 67, 0.3), 0px 1px 3px 1px rgba(60, 64, 67, 0.15);\n",
              "      fill: #174EA6;\n",
              "    }\n",
              "\n",
              "    .colab-df-buttons div {\n",
              "      margin-bottom: 4px;\n",
              "    }\n",
              "\n",
              "    [theme=dark] .colab-df-convert {\n",
              "      background-color: #3B4455;\n",
              "      fill: #D2E3FC;\n",
              "    }\n",
              "\n",
              "    [theme=dark] .colab-df-convert:hover {\n",
              "      background-color: #434B5C;\n",
              "      box-shadow: 0px 1px 3px 1px rgba(0, 0, 0, 0.15);\n",
              "      filter: drop-shadow(0px 1px 2px rgba(0, 0, 0, 0.3));\n",
              "      fill: #FFFFFF;\n",
              "    }\n",
              "  </style>\n",
              "\n",
              "    <script>\n",
              "      const buttonEl =\n",
              "        document.querySelector('#df-f63f5ec6-526c-4428-a904-ffc4abc6f411 button.colab-df-convert');\n",
              "      buttonEl.style.display =\n",
              "        google.colab.kernel.accessAllowed ? 'block' : 'none';\n",
              "\n",
              "      async function convertToInteractive(key) {\n",
              "        const element = document.querySelector('#df-f63f5ec6-526c-4428-a904-ffc4abc6f411');\n",
              "        const dataTable =\n",
              "          await google.colab.kernel.invokeFunction('convertToInteractive',\n",
              "                                                    [key], {});\n",
              "        if (!dataTable) return;\n",
              "\n",
              "        const docLinkHtml = 'Like what you see? Visit the ' +\n",
              "          '<a target=\"_blank\" href=https://colab.research.google.com/notebooks/data_table.ipynb>data table notebook</a>'\n",
              "          + ' to learn more about interactive tables.';\n",
              "        element.innerHTML = '';\n",
              "        dataTable['output_type'] = 'display_data';\n",
              "        await google.colab.output.renderOutput(dataTable, element);\n",
              "        const docLink = document.createElement('div');\n",
              "        docLink.innerHTML = docLinkHtml;\n",
              "        element.appendChild(docLink);\n",
              "      }\n",
              "    </script>\n",
              "  </div>\n",
              "\n",
              "\n",
              "<div id=\"df-0faaa1e0-b2d2-484b-a0f4-1fa68f9bc947\">\n",
              "  <button class=\"colab-df-quickchart\" onclick=\"quickchart('df-0faaa1e0-b2d2-484b-a0f4-1fa68f9bc947')\"\n",
              "            title=\"Suggest charts\"\n",
              "            style=\"display:none;\">\n",
              "\n",
              "<svg xmlns=\"http://www.w3.org/2000/svg\" height=\"24px\"viewBox=\"0 0 24 24\"\n",
              "     width=\"24px\">\n",
              "    <g>\n",
              "        <path d=\"M19 3H5c-1.1 0-2 .9-2 2v14c0 1.1.9 2 2 2h14c1.1 0 2-.9 2-2V5c0-1.1-.9-2-2-2zM9 17H7v-7h2v7zm4 0h-2V7h2v10zm4 0h-2v-4h2v4z\"/>\n",
              "    </g>\n",
              "</svg>\n",
              "  </button>\n",
              "\n",
              "<style>\n",
              "  .colab-df-quickchart {\n",
              "      --bg-color: #E8F0FE;\n",
              "      --fill-color: #1967D2;\n",
              "      --hover-bg-color: #E2EBFA;\n",
              "      --hover-fill-color: #174EA6;\n",
              "      --disabled-fill-color: #AAA;\n",
              "      --disabled-bg-color: #DDD;\n",
              "  }\n",
              "\n",
              "  [theme=dark] .colab-df-quickchart {\n",
              "      --bg-color: #3B4455;\n",
              "      --fill-color: #D2E3FC;\n",
              "      --hover-bg-color: #434B5C;\n",
              "      --hover-fill-color: #FFFFFF;\n",
              "      --disabled-bg-color: #3B4455;\n",
              "      --disabled-fill-color: #666;\n",
              "  }\n",
              "\n",
              "  .colab-df-quickchart {\n",
              "    background-color: var(--bg-color);\n",
              "    border: none;\n",
              "    border-radius: 50%;\n",
              "    cursor: pointer;\n",
              "    display: none;\n",
              "    fill: var(--fill-color);\n",
              "    height: 32px;\n",
              "    padding: 0;\n",
              "    width: 32px;\n",
              "  }\n",
              "\n",
              "  .colab-df-quickchart:hover {\n",
              "    background-color: var(--hover-bg-color);\n",
              "    box-shadow: 0 1px 2px rgba(60, 64, 67, 0.3), 0 1px 3px 1px rgba(60, 64, 67, 0.15);\n",
              "    fill: var(--button-hover-fill-color);\n",
              "  }\n",
              "\n",
              "  .colab-df-quickchart-complete:disabled,\n",
              "  .colab-df-quickchart-complete:disabled:hover {\n",
              "    background-color: var(--disabled-bg-color);\n",
              "    fill: var(--disabled-fill-color);\n",
              "    box-shadow: none;\n",
              "  }\n",
              "\n",
              "  .colab-df-spinner {\n",
              "    border: 2px solid var(--fill-color);\n",
              "    border-color: transparent;\n",
              "    border-bottom-color: var(--fill-color);\n",
              "    animation:\n",
              "      spin 1s steps(1) infinite;\n",
              "  }\n",
              "\n",
              "  @keyframes spin {\n",
              "    0% {\n",
              "      border-color: transparent;\n",
              "      border-bottom-color: var(--fill-color);\n",
              "      border-left-color: var(--fill-color);\n",
              "    }\n",
              "    20% {\n",
              "      border-color: transparent;\n",
              "      border-left-color: var(--fill-color);\n",
              "      border-top-color: var(--fill-color);\n",
              "    }\n",
              "    30% {\n",
              "      border-color: transparent;\n",
              "      border-left-color: var(--fill-color);\n",
              "      border-top-color: var(--fill-color);\n",
              "      border-right-color: var(--fill-color);\n",
              "    }\n",
              "    40% {\n",
              "      border-color: transparent;\n",
              "      border-right-color: var(--fill-color);\n",
              "      border-top-color: var(--fill-color);\n",
              "    }\n",
              "    60% {\n",
              "      border-color: transparent;\n",
              "      border-right-color: var(--fill-color);\n",
              "    }\n",
              "    80% {\n",
              "      border-color: transparent;\n",
              "      border-right-color: var(--fill-color);\n",
              "      border-bottom-color: var(--fill-color);\n",
              "    }\n",
              "    90% {\n",
              "      border-color: transparent;\n",
              "      border-bottom-color: var(--fill-color);\n",
              "    }\n",
              "  }\n",
              "</style>\n",
              "\n",
              "  <script>\n",
              "    async function quickchart(key) {\n",
              "      const quickchartButtonEl =\n",
              "        document.querySelector('#' + key + ' button');\n",
              "      quickchartButtonEl.disabled = true;  // To prevent multiple clicks.\n",
              "      quickchartButtonEl.classList.add('colab-df-spinner');\n",
              "      try {\n",
              "        const charts = await google.colab.kernel.invokeFunction(\n",
              "            'suggestCharts', [key], {});\n",
              "      } catch (error) {\n",
              "        console.error('Error during call to suggestCharts:', error);\n",
              "      }\n",
              "      quickchartButtonEl.classList.remove('colab-df-spinner');\n",
              "      quickchartButtonEl.classList.add('colab-df-quickchart-complete');\n",
              "    }\n",
              "    (() => {\n",
              "      let quickchartButtonEl =\n",
              "        document.querySelector('#df-0faaa1e0-b2d2-484b-a0f4-1fa68f9bc947 button');\n",
              "      quickchartButtonEl.style.display =\n",
              "        google.colab.kernel.accessAllowed ? 'block' : 'none';\n",
              "    })();\n",
              "  </script>\n",
              "</div>\n",
              "\n",
              "  <div id=\"id_b78c1b6e-c916-405e-96ae-736d5e006e83\">\n",
              "    <style>\n",
              "      .colab-df-generate {\n",
              "        background-color: #E8F0FE;\n",
              "        border: none;\n",
              "        border-radius: 50%;\n",
              "        cursor: pointer;\n",
              "        display: none;\n",
              "        fill: #1967D2;\n",
              "        height: 32px;\n",
              "        padding: 0 0 0 0;\n",
              "        width: 32px;\n",
              "      }\n",
              "\n",
              "      .colab-df-generate:hover {\n",
              "        background-color: #E2EBFA;\n",
              "        box-shadow: 0px 1px 2px rgba(60, 64, 67, 0.3), 0px 1px 3px 1px rgba(60, 64, 67, 0.15);\n",
              "        fill: #174EA6;\n",
              "      }\n",
              "\n",
              "      [theme=dark] .colab-df-generate {\n",
              "        background-color: #3B4455;\n",
              "        fill: #D2E3FC;\n",
              "      }\n",
              "\n",
              "      [theme=dark] .colab-df-generate:hover {\n",
              "        background-color: #434B5C;\n",
              "        box-shadow: 0px 1px 3px 1px rgba(0, 0, 0, 0.15);\n",
              "        filter: drop-shadow(0px 1px 2px rgba(0, 0, 0, 0.3));\n",
              "        fill: #FFFFFF;\n",
              "      }\n",
              "    </style>\n",
              "    <button class=\"colab-df-generate\" onclick=\"generateWithVariable('data')\"\n",
              "            title=\"Generate code using this dataframe.\"\n",
              "            style=\"display:none;\">\n",
              "\n",
              "  <svg xmlns=\"http://www.w3.org/2000/svg\" height=\"24px\"viewBox=\"0 0 24 24\"\n",
              "       width=\"24px\">\n",
              "    <path d=\"M7,19H8.4L18.45,9,17,7.55,7,17.6ZM5,21V16.75L18.45,3.32a2,2,0,0,1,2.83,0l1.4,1.43a1.91,1.91,0,0,1,.58,1.4,1.91,1.91,0,0,1-.58,1.4L9.25,21ZM18.45,9,17,7.55Zm-12,3A5.31,5.31,0,0,0,4.9,8.1,5.31,5.31,0,0,0,1,6.5,5.31,5.31,0,0,0,4.9,4.9,5.31,5.31,0,0,0,6.5,1,5.31,5.31,0,0,0,8.1,4.9,5.31,5.31,0,0,0,12,6.5,5.46,5.46,0,0,0,6.5,12Z\"/>\n",
              "  </svg>\n",
              "    </button>\n",
              "    <script>\n",
              "      (() => {\n",
              "      const buttonEl =\n",
              "        document.querySelector('#id_b78c1b6e-c916-405e-96ae-736d5e006e83 button.colab-df-generate');\n",
              "      buttonEl.style.display =\n",
              "        google.colab.kernel.accessAllowed ? 'block' : 'none';\n",
              "\n",
              "      buttonEl.onclick = () => {\n",
              "        google.colab.notebook.generateWithVariable('data');\n",
              "      }\n",
              "      })();\n",
              "    </script>\n",
              "  </div>\n",
              "\n",
              "    </div>\n",
              "  </div>\n"
            ],
            "application/vnd.google.colaboratory.intrinsic+json": {
              "type": "dataframe",
              "variable_name": "data",
              "summary": "{\n  \"name\": \"data\",\n  \"rows\": 1084,\n  \"fields\": [\n    {\n      \"column\": \"Misspelled Word\",\n      \"properties\": {\n        \"dtype\": \"string\",\n        \"num_unique_values\": 684,\n        \"samples\": [\n          \"Puh Shay\",\n          \"d*mb@ss\",\n          \"d!sgr@c3\"\n        ],\n        \"semantic_type\": \"\",\n        \"description\": \"\"\n      }\n    },\n    {\n      \"column\": \"Context\",\n      \"properties\": {\n        \"dtype\": \"string\",\n        \"num_unique_values\": 1083,\n        \"samples\": [\n          \"Sometimes she acts like a total b!tch, but she doesn't mean harm.\",\n          \"the movie is a piece of typical Hollywood f****\",\n          \"Such !nd0m!7@b|3 spirit shown\"\n        ],\n        \"semantic_type\": \"\",\n        \"description\": \"\"\n      }\n    },\n    {\n      \"column\": \"Label (O & N)\",\n      \"properties\": {\n        \"dtype\": \"category\",\n        \"num_unique_values\": 2,\n        \"samples\": [\n          \"N\",\n          \"O\"\n        ],\n        \"semantic_type\": \"\",\n        \"description\": \"\"\n      }\n    },\n    {\n      \"column\": \"Output Labels\",\n      \"properties\": {\n        \"dtype\": \"category\",\n        \"num_unique_values\": 236,\n        \"samples\": [\n          \"['S', 'S', 'S', 'B-O', 'S', 'S', 'S', 'S', 'S', 'S', 'S', 'S', 'S']\",\n          \"['S', 'S', 'S', 'S', 'S', 'S', 'S', 'S', 'S', 'S', 'S', 'S', 'S', 'S', 'S', 'S', 'S', 'S', 'B-N']\"\n        ],\n        \"semantic_type\": \"\",\n        \"description\": \"\"\n      }\n    }\n  ]\n}"
            }
          },
          "metadata": {},
          "execution_count": 4
        }
      ]
    },
    {
      "cell_type": "code",
      "source": [
        "labels_to_indices = {\"S\": 0, \"B-O\":1, \"B-N\":2, \"I-O\":3,  \"I-N\": 4, \"<pad>\": -1}\n",
        "indices_to_labels = {0: \"S\", 1:\"B-O\", 2:\"B-N\", 3:\"I-O\",  4:\"I-N\", -1: \"<pad>\"}\n"
      ],
      "metadata": {
        "id": "2FNQ7NUYbmfd"
      },
      "execution_count": null,
      "outputs": []
    },
    {
      "cell_type": "code",
      "source": [
        "context=  data['Context']\n",
        "MAX_LENGTH = max(len(sentence.split()) for sentence in context)\n",
        "print(MAX_LENGTH)\n",
        "\n",
        "context = context.str.lower()\n",
        "\n",
        "vocab = {\"<pad>\": 0, '<unk>':1}\n",
        "for sentence in context:\n",
        "    tokens = sentence.split()\n",
        "    for token in tokens:\n",
        "        if token not in vocab:\n",
        "            vocab[token] = len(vocab)\n",
        "vocab_size = len(vocab)\n",
        "print(vocab_size)\n",
        "print(vocab)"
      ],
      "metadata": {
        "colab": {
          "base_uri": "https://localhost:8080/"
        },
        "id": "E6quWhI4b78V",
        "outputId": "74b75485-7a27-44a4-9996-201821d0ecfe"
      },
      "execution_count": null,
      "outputs": [
        {
          "output_type": "stream",
          "name": "stdout",
          "text": [
            "31\n",
            "2676\n",
            "{'<pad>': 0, '<unk>': 1, 'such': 2, '@by5m@|': 3, 'performance': 4, 'today': 5, 'your': 6, '@d3p7': 7, 'management': 8, 'succeeds': 9, 'why': 10, 'does': 11, 'that': 12, 'afr1can': 13, 'american': 14, 'monkey': 15, 'hold': 16, 'gun': 17, 'like': 18, 'that?': 19, '@ggr355!v3': 20, 'approach': 21, 'worked': 22, '@ggr0': 23, 'determination': 24, 'helps': 25, 'problem': 26, 'solving': 27, '@m@z!n6': 28, 'won': 29, 'us': 30, 'the': 31, 'game': 32, '@m@z!ng': 33, 'contribution': 34, 'helped': 35, 'skills': 36, 'showed': 37, 'i': 38, 'heard': 39, 'anna': 40, 'l': 41, 'with': 42, 'depression.': 43, 'he': 44, 'definitely': 45, 'enjoyed': 46, 'session.': 47, 'hate': 48, 'has': 49, 'to': 50, 'be': 51, 'so': 52, 'about': 53, 'this': 54, 'situation.': 55, 'im': 56, 'done': 57, 'bitter': 58, 'bitches': 59, 'its': 60, 'a': 61, 'wrap': 62, 'for': 63, 'that.': 64, 'if': 65, 'you': 66, '@ngry': 67, 'bird': 68, 'theres': 69, 'app': 70, 'getting': 71, '@n6ry': 72, 'at': 73, 'these': 74, 'bugs': 75, 'going': 76, '@nn!h!|@73': 77, 'exam': 78, 'will': 79, '@nn!l8': 80, 'objectives': 81, 'challenges': 82, 'it??': 83, 'not': 84, 'funny': 85, 'when': 86, 'insult;': 87, \"it's\": 88, 'just': 89, 'ann0ying.': 90, 'no': 91, \"one's\": 92, 'ever': 93, 'impresed': 94, 'by': 95, 'anythng': 96, 'do,': 97, 'actually': 98, 'laughable.': 99, 'his': 100, 'arr*gance': 101, 'is': 102, 'annoying;': 103, 'acts': 104, 'he??': 105, 'better': 106, 'than': 107, 'everyone.': 108, 'she': 109, 'really': 110, 'asked': 111, 'me': 112, 'dead': 113, 'a$$': 114, 'serious': 115, 'tho': 116, 'feel': 117, 'pants': 118, 'dont': 119, 'suit': 120, 'ma': 121, 'a55': 122, 'could': 123, 'go': 124, 'fat': 125, '@$$': 126, 'dumb': 127, 'gal': 128, 'on': 129, 'my': 130, 'lap': 131, 'was': 132, 'some': 133, 'kick': 134, '@ss': 135, 'horseradish': 136, 'we': 137, 'eating.': 138, 'absolutely,': 139, 'love': 140, '@55': 141, 'trying': 142, 'cover': 143, 'stain': 144, 'a_s_s': 145, 'charr': 146, 'doing': 147, 'a_$_$': 148, 'job,': 149, 'carrying': 150, 'from': 151, 'late': 152, 'great': 153, 'dan': 154, 'damage,': 155, 'who': 156, 'sadly': 157, 'passed': 158, 'away': 159, 'july': 160, '2004.': 161, 'ugly': 162, 'a_5_5.': 163, '#ss': 164, 'feels': 165, 'bit': 166, 'itchy': 167, 'laughing': 168, 'and': 169, 'one': 170, 'of': 171, 'guys,': 172, 'probably': 173, 'her': 174, 'boyfriend,': 175, 'had': 176, 'hand': 177, '#$$': 178, 'want': 179, 'see': 180, 'es': 181, 'again': 182, 'time': 183, 'soon.': 184, 'always': 185, 'stare': 186, \"girls'\": 187, 'everytime': 188, 'they': 189, 'walk': 190, 'past': 191, 'table.': 192, \"don't\": 193, 'talk': 194, 'him;': 195, 'total': 196, 'an': 197, 'a$s': 198, 'gets': 199, 'that;': 200, 'wants': 201, 'around': 202, 'him.': 203, 'nobody': 204, 'needs': 205, 'lying': 206, 'here.': 207, 'being': 208, 'whin': 209, 'y': 210, 'a$$?': 211, 'whole': 212, 'can': 213, 'rot': 214, 'die': 215, 'cannot': 216, 'work': 217, 'things': 218, 'out': 219, 'shove': 220, 'it,': 221, 'b@ckstabbing': 222, 'assh*le.': 223, \"he's\": 224, 'acting': 225, 'a$$hole': 226, 'in': 227, 'group': 228, 'settings.': 229, \"you're\": 230, 'as': 231, 'useless': 232, '@sshole': 233, 'thumb.': 234, 'ashole': 235, 'stick.': 236, '@7r0c!0u5': 237, 'behavior': 238, 'showing': 239, \"let's\": 240, '@77@ck': 241, 'problems': 242, '@tt@ck': 243, 'project': 244, 'deadline': 245, 'tasks': 246, 'they??e': 247, 'att3ntion-seekers,': 248, 'whining': 249, 'moaning': 250, 'everything.': 251, 'abortion': 252, 'solution': 253, 'aut1sm.': 254, '@w350m3': 255, 'what': 256, '@wfu|': 257, 'person': 258, 'are': 259, '@wfu1': 260, 'stop': 261, 'everything': 262, '@wful': 263, 'job': 264, 'sometimes': 265, 'b!tch,': 266, 'but': 267, \"doesn't\": 268, 'mean': 269, 'harm.': 270, 'bakeing': 271, 'bread': 272, 'scratch': 273, 'something': 274, 'finds': 275, 'therapeutic': 276, 'rewarding.': 277, 'lucky': 278, 'b@st@rd': 279, 'never': 280, 'concerned': 281, 'born': 282, 'b@$tard': 283, 'shut': 284, 'ur': 285, 'mouth': 286, 'u': 287, 'jew': 288, 'b@$7ard,': 289, 'times': 290, 'coming': 291, 'nooooooo': 292, 'broke': 293, 'selfish': 294, 'b@$t@rds': 295, 'yall': 296, 'nicest': 297, 'thing': 298, 'aussie': 299, 'call': 300, 'bloody': 301, 'fine': 302, 'basetard': 303, 'made': 304, 'son': 305, 'david': 306, 'bishop': 307, 'utrecht,': 308, '1456': 309, 'onwards': 310, 'continued': 311, 'under': 312, 'burgundian': 313, 'influence': 314, 'it': 315, \"dean's\": 316, 'custom': 317, 'porsche': 318, '550,': 319, 'dubbed': 320, '\"little': 321, 'basetard,\"': 322, 'met': 323, 'untimely': 324, 'demise': 325, 'while': 326, 'joy': 327, 'riding': 328, 'california.': 329, 'wife': 330, 'left': 331, 'him,': 332, 'poor': 333, 'b@?7ard.': 334, 'them': 335, '6@stards': 336, 'got': 337, 'enough': 338, 'already.': 339, \"crossword's\": 340, 'b@s$t@rd,': 341, 'quite': 342, 'hard': 343, 'solve': 344, 'up,': 345, 'annoying': 346, 'b*stard.': 347, 'lies': 348, 'big': 349, 'b*stard': 350, 'ego.': 351, 'basturd': 352, 'new': 353, 'b*tch': 354, 'think': 355, 'have': 356, 'seen': 357, 'b**ch': 358, 'arrived': 359, 'cupcakes': 360, 'truly': 361, 'delicious': 362, 'president': 363, 'betch': 364, 'more': 365, 'cookies;': 366, 'smells': 367, 'amazing': 368, 'high': 369, 'demand,': 370, 'everyone': 371, 'wanted': 372, 'it.': 373, 'waste': 374, 'efforts.': 375, 'beech': 376, 'during': 377, 'sunset': 378, 'peaceful': 379, 'experience': 380, 'many': 381, 'enjoy.': 382, 'been': 383, 'since': 384, 'beech.': 385, 'wearing': 386, \"she's\": 387, 'becoming': 388, '|33@57': 389, 'coding': 390, 'b3@57': 391, 'b3@5t': 392, 'presentations': 393, 'b3@st': 394, 'research': 395, 'analytics': 396, 'b00ty': 397, 'unmatched,': 398, 'should': 399, 'sign': 400, 'up': 401, 'beauty': 402, 'pageant': 403, 'foreign': 404, 'concept': 405, 'him': 406, 'thinks': 407, 'all': 408, 'that,': 409, 'she??': 410, 'trash.': 411, 'threw': 412, 'nig': 413, 'party': 414, 'last': 415, 'week': 416, 'promise': 417, 'turned': 418, 'nothing': 419, 'hot': 420, 'air': 421, 'heart': 422, 'loves': 423, 'helping': 424, 'people': 425, 'moving': 426, 'higger': 427, 'place': 428, 'soon': 429, 'thought': 430, 'pizza': 431, 'would': 432, 'higger,': 433, 'tiny!': 434, 'am': 435, 'happy': 436, 'cake': 437, 'time!!': 438, 'filthy': 439, 'blrch.': 440, 'b17ch': 441, 'do': 442, 'ohhhhh': 443, 'yes': 444, 'beatch': 445, 'yesss': 446, 'thinkin': 447, 'same': 448, 'birch': 449, 'rachel': 450, 'please': 451, 'pretty': 452, 'beeches': 453, 'birthday': 454, 'dinner': 455, 'only': 456, 'year': 457, \"i'll\": 458, 'b1atch': 459, 'having': 460, 'cable:': 461, '\"\"hocus': 462, 'pocus\"\"': 463, 'comes': 464, 'fee': 465, 'might': 466, 'resting': 467, 'b!atch': 468, 'face,': 469, 'smile': 470, 'karma': 471, 'birch,': 472, \"wasn't\": 473, 'indiscriminate,': 474, 'it?': 475, 'hell': 476, 'beetch,': 477, 'least': 478, 'warm,': 479, 'darkly': 480, 'look': 481, 'wonderful': 482, 'boss': 483, 'b1ch,': 484, 'i?': 485, 'b7j.': 486, 'back': 487, 'matter': 488, 'keep': 489, 'slaying': 490, 'pitch': 491, 'bvch': 492, 'changed': 493, 'after': 494, 'years.': 495, 'may': 496, 'what.': 497, 'b*ch': 498, 'cant': 499, 'tell': 500, 'cancel': 501, 'b!tch': 502, 'nino': 503, 'fuck': 504, 'even': 505, 'suck': 506, 'dick': 507, 'ya': 508, 'tip': 509, 'toeing': 510, 'hardwood': 511, 'floors': 512, 'stay': 513, 'away,': 514, 'ugly,': 515, 'miserable': 516, 'b*tch.': 517, \"can't\": 518, 'believe': 519, 'b1tch.': 520, 'b.ich': 521, 'move': 522, 'act': 523, 'way': 524, 'towards': 525, 'friends.': 526, 'handle': 527, 'truth.': 528, 'bitchh': 529, 'reality.': 530, 'did': 531, 'say': 532, 'pitch?': 533, 'b!tching': 534, 'anything': 535, 'prefers': 536, 'taking': 537, 'coffee': 538, 'b*ack': 539, 'strong': 540, 'mornings.': 541, 'show': 542, '(.)(.)': 543, 'jealous': 544, 'kids': 545, 'seems': 546, 'phooger': 547, 'jokes': 548, 'days.': 549, 'hanging': 550, 'nose': 551, 'gross': 552, 'bruh': 553, 'phooger-eating': 554, 'joke': 555, 'lowkey': 556, 'kinda': 557, 'yea': 558, 'br@g': 559, 'lot': 560, 'th!ngs': 561, 'cares': 562, 'about.': 563, 'most': 564, 'br@in-dead': 565, \"i've\": 566, 'heard.': 567, 'br@inless': 568, 'm0ron': 569, 'real': 570, 'value.': 571, 'brainles': 572, 'moron,': 573, 'totally': 574, 'irrelevant.': 575, 'br@!n|355': 576, 'usual': 577, 'someone': 578, 'zero': 579, 'br@ins.': 580, 'frustrating': 581, 'how': 582, 'whines': 583, 'little': 584, 'br@t': 585, 'over': 586, '|3r!11!@n7': 587, 'saved': 588, 'br!||!@n7': 589, 'strategy': 590, 'br!ll!@nt': 591, 'works': 592, 'bru7@|': 593, 'efficiency': 594, 'amazed': 595, 'br00t@l': 596, 'full': 597, 'bull': 598, 'sh*t,': 599, 'annoying.': 600, \"there's\": 601, 'b': 602, 'ull': 603, 'sh!t': 604, 'lately.': 605, 'spewing': 606, 'b*llshit': 607, 'every': 608, 'speak.': 609, 'bullsh!t': 610, 'mouth.': 611, 'bullshitt,': 612, 'worth': 613, 'hearing.': 614, 'bullshite': 615, 'falls': 616, 'ifs': 617, 'bvts,': 618, 'okay?': 619, 'put': 620, 'bvt': 621, 'aside': 622, 'cut': 623, 'legs': 624, 'bvtt': 625, 'perfect.': 626, 'our': 627, 'professor': 628, 'said': 629, \"'bv77'\": 630, 'very': 631, 'nice': 632, 'bwtt': 633, 'there': 634, 'salon': 635, 'chuck': 636, '6vtt-hurt': 637, 'liberal': 638, 'retards': 639, 'where': 640, 'gals': 641, 'surgery': 642, 'make': 643, 'their': 644, 'bv77s': 645, 'bigger??': 646, 'those': 647, 'bvttchick': 648, 'piercings?': 649, 'making': 650, 'sure': 651, 'bu++kr@k': 652, 'bu++h0le': 653, 'due': 654, 'hemorrhoids': 655, 'plug': 656, 'wash': 657, 'bv++h0le': 658, 'tongue': 659, 'faggot': 660, 'cannt': 661, 'you??': 662, 'anyone': 663, 'agrees': 664, 'you.': 665, 'attend': 666, 'meeting': 667, 'tomorrow.': 668, 'much': 669, 'fun': 670, 'concert!': 671, 'kant': 672, 'find': 673, 'keys.': 674, 'cunn': 675, 'finishing': 676, 'semester': 677, 'scored': 678, 'exam!!': 679, 'cvnt': 680, 'come': 681, 'cvnt,': 682, 'really?': 683, 'cc': 684, 'email': 685, 'update': 686, 'project.': 687, 'boss?': 688, 'drove': 689, 'carefullee': 690, 'through': 691, 'winding': 692, 'mountain': 693, 'roads,': 694, 'appreciating': 695, 'stunning': 696, 'scenery': 697, 'ch@mp!0n': 698, 'pointed': 699, 'chinc': 700, 'explaining': 701, 'injury.': 702, 'v-shaped': 703, 'name': 704, 'ah': 705, 'ching': 706, 'or': 707, 'chong?': 708, 'chong': 709, 'deserve': 710, 'give': 711, 'opinions': 712, 'here': 713, 'eat': 714, 'rice': 715, 'dinner,': 716, 'cc.': 717, 'ccs': 718, 'into': 719, 'country': 720, 'takes': 721, 'jobs.': 722, 'difference': 723, 'between': 724, 'there.': 725, 'easily': 726, 'get': 727, 'class': 728, 'group.': 729, 'seats': 730, 'front': 731, 'taken': 732, 'singsongs.': 733, 'stand': 734, 'room': 735, 'shins': 736, 'next': 737, 'town': 738, 'party.': 739, 'cute': 740, ';': 741, 'type': 742, 'gaming': 743, 'klan': 744, 'planning': 745, 'tournament': 746, 'week.': 747, 'best': 748, 'klan.': 749, 'cl0ck': 750, 'staying': 751, 'still': 752, 'clyrck': 753, 'looking': 754, 'wall': 755, 'fix': 756, 'busted': 757, 'cl0ck.': 758, 'useful': 759, 'deadweight.': 760, 'painfully': 761, 'obvious': 762, 'brain': 763, 'you??e': 764, 'cluless.': 765, 'completely': 766, 'c|u3|355': 767, 'female': 768, '\"\"c0k': 769, 'block\"\"': 770, 'called': 771, '\"\"clam': 772, 'jam.\"\"\"': 773, 'kok': 774, 'day': 775, 'clear': 776, 'skin': 777, \"i'm\": 778, 'happiest': 779, '?0ckiest': 780, 'bitch': 781, 'alive': 782, 'mexican': 783, 'sucking': 784, '?0?k': 785, 'profile': 786, 'rock': 787, 'talks': 788, 'cork': 789, 'often': 790, 'jumping': 791, 'qawk': 792, 'qawks?': 793, 'qawk!': 794, \"that's\": 795, 'cool': 796, 'dude': 797, 'hops': 798, 'different': 799, '8===ds': 800, 'everyday.': 801, 'complimented': 802, '8===d.': 803, 'yourself': 804, 'cork.': 805, 'coggsvgger': 806, 'gave': 807, 'assignments': 808, 'again.': 809, 'lost': 810, 'job.': 811, 'grateful': 812, 'life': 813, 'c*cky': 814, 'attitude': 815, 'rubs': 816, 'wrong': 817, 'way.': 818, 'cok': 819, 'meal': 820, 'spat': 821, 'drink': 822, 'mixed': 823, 'hits': 824, 'ice-cold': 825, 'team': 826, 'collab*rated': 827, 'well': 828, 'complete': 829, 'successfully.': 830, 'cum': 831, 'tonight.': 832, 'straight': 833, 'point': 834, 'wait': 835, 'home': 836, 'you!': 837, 'told': 838, 'cummin': 839, 'early': 840, 'important': 841, 'forward': 842, 'boring': 843, 'event': 844, 'compla!ning': 845, 'everything?': 846, 'grow': 847, 'up.': 848, 'utterly': 849, 'compltely': 850, 'oblivous': 851, 'useless?': 852, 'there??': 853, 'hugee': 854, 'gap': 855, 'fake': 856, 'confidnce': 857, 'actual': 858, 'knowldge.': 859, 'c0nqu3r': 860, 'obstacles': 861, 'c0n73mp7!b|3': 862, 'disgusts': 863, 'must': 864, 'cok,': 865, 'pay': 866, 'him?': 867, 'capable': 868, 'stuff': 869, 'wow': 870, 'friend??': 871, 'taught': 872, 'few': 873, 'tricks': 874, 'improve': 875, 'other': 876, 'know': 877, 'isn??': 878, 'bad;': 879, 'pathetic.': 880, 'decent': 881, 'c0k;': 882, 'garbage.': 883, 'enjoys': 884, 'c*oking': 885, 'recipes': 886, 'spare': 887, 'time.': 888, 'pretend': 889, 'c0ol': 890, 'not?': 891, 'fits': 892, 'tried': 893, 'open': 894, 'wine,': 895, 'pain': 896, 'off': 897, 'small': 898, 'margin': 899, 'personally': 900, 'per': 901, 'chance?': 902, 'inventory': 903, 'didn??': 904, 'expect': 905, 'end.': 906, 'spent': 907, 'two': 908, 'weeks': 909, 'visiting': 910, 'countrees': 911, 'europe,': 912, 'enjoying': 913, 'food': 914, 'culture.': 915, 'cr@p': 916, 'racist': 917, 'kr@p.': 918, 'aw': 919, 'crepe,': 920, 'stupid': 921, 'krep': 922, 'ahh': 923, 'everyone,': 924, 'then': 925, 'wonders': 926, 'likes': 927, 'n0t-wanted': 928, 'piece': 929, 'cr@p.': 930, 'cr-ap.': 931, 'cr@pface': 932, 'crapface': 933, 'around,': 934, 'disappear.': 935, 'cru5h': 936, 'competition': 937, 'cru$h': 938, 'presentation': 939, '?': 940, 'kvnt': 941, 'tastiest': 942, 'cuts': 943, 'cwnts??': 944, 'guess': 945, 'were': 946, 'half': 947, 'cwn7': 948, 'woul': 949, 'k?nt': 950, \"we've\": 951, 'used': 952, 'word': 953, 'almost': 954, '3': 955, 'times,': 956, 'beautiful.': 957, 'close': 958, 'middle': 959, 'school.': 960, 'good': 961, 'cant!!!': 962, 'face': 963, 'saw': 964, 'talking': 965, 'life.': 966, 'gives': 967, 'd@mn': 968, 'you,': 969, 'worthless': 970, 'pr*ck.': 971, 'damn': 972, 'prick.': 973, 'fark': 974, 'tripped': 975, 'frustrated': 976, 'couldnt': 977, 'any': 978, 'farker.': 979, 'creepy': 980, 'once': 981, 'farker': 982, 'd3@d|y': 983, 'accuracy': 984, 'impressed': 985, 'd3@dly': 986, 'design': 987, 'precision': 988, 'amazes': 989, 'listens': 990, 'rap': 991, 'white': 992, 'part': 993, 'ethnostate': 994, 'd*ath.': 995, 'bought': 996, 'd1ck': 997, 'cards': 998, 'stood': 999, 'd!ck': 1000, 'played': 1001, 'd!!k': 1002, 'cards.': 1003, 'evening': 1004, 'sitting': 1005, 'd1ck.': 1006, 'stumbled': 1007, 'clueless': 1008, 'fool.': 1009, 'keeping.': 1010, 'favorite': 1011, 'among': 1012, 'players.': 1013, 'dekorated': 1014, 'beautifully': 1015, 'party,': 1016, 'balloons': 1017, 'streamers': 1018, 'everywhere.': 1019, 'completed': 1020, 'dedicayshun,': 1021, 'working': 1022, 'nights': 1023, 'dedi*kation': 1024, 'admirable': 1025, 'inspiring': 1026, 'others.': 1027, 'd3f!c!3n7': 1028, 'understanding': 1029, 'preparing': 1030, 'delishous': 1031, 'meals': 1032, 'family,': 1033, 'especially': 1034, 'holidays.': 1035, 'restaurant': 1036, 'serves': 1037, 'disg*sting': 1038, 'range': 1039, 'affordable': 1040, 'prices.': 1041, 'd3lusional?': 1042, 'dem': 1043, 'hung': 1044, 'before': 1045, 'moved.': 1046, \"annoying...she's\": 1047, 'd3m0|!5h': 1048, 'task': 1049, 'd3m0l!sh': 1050, 'barriers': 1051, 'd3p|0r@b|3': 1052, 'ethics': 1053, 'd3sp!c@b|3': 1054, 'nature': 1055, 'shows': 1056, 'd3$7r0y': 1057, 'd357r0y': 1058, 'challenge': 1059, 'ready': 1060, 'd3str0y': 1061, 'interview': 1062, 'goals': 1063, 'd37357@b|3': 1064, 'lol': 1065, 'girl': 1066, 'd1k': 1067, 'sent': 1068, 'd!k': 1069, 'pic': 1070, 'ig': 1071, 'dope': 1072, 'd**k': 1073, 'instructions': 1074, 'duck,': 1075, 'and?': 1076, 'honestly,': 1077, 'd.i.c.k': 1078, 'right': 1079, 'now.': 1080, 'dixphace': 1081, 'class?': 1082, 'legendary': 1083, 'dixphase': 1084, 'fucking': 1085, 'deckhead': 1086, 'duckhead': 1087, 'isnt': 1088, 'absolute': 1089, 'd!ckhead,': 1090, 'respects': 1091, 'personality': 1092, 'd.i.ickhead.': 1093, 'd*ckhead': 1094, 'integrity': 1095, 'dickhead': 1096, 'f*ck': 1097, 'off,': 1098, 'insignificant': 1099, 'd*ckwad.': 1100, 'leave,': 1101, 'sad': 1102, 'excuse': 1103, 'dickw@d.': 1104, 'brought': 1105, 'variety': 1106, 'diks': 1107, 'taste.': 1108, 'single': 1109, 'ate': 1110, 'bland': 1111, 'd!rtbag': 1112, 'likes.': 1113, 'd!rty': 1114, 'ass': 1115, 'here,': 1116, 'lost.': 1117, 'take': 1118, 'dirtty': 1119, 'self': 1120, 'somewhere': 1121, 'else;': 1122, 'wanted.': 1123, 'miss': 1124, 'd!sappear.': 1125, 'd!5gr@c3': 1126, 'd1sgr@c3': 1127, 'd1sgrace': 1128, 'd!sgr@c3': 1129, 'd!sgr@ce': 1130, 'd!sg': 1131, 'russian': 1132, 'speak': 1133, 'indian.': 1134, 'both': 1135, 'disgust1ng': 1136, 'kill': 1137, 'car': 1138, 'went': 1139, 'control': 1140, 'plunged': 1141, 'd1tch': 1142, 'd1ched': 1143, 'tents': 1144, 'toss': 1145, 'let': 1146, 'rot.': 1147, 'd0': 1148, 'brag': 1149, 'pointless': 1150, 'things.': 1151, 'd0m!n@n7': 1152, 'shine': 1153, 'd0m!n@73': 1154, 'another': 1155, 'loudmouthed': 1156, 'd0uchebag.': 1157, 'duchebag': 1158, 'pathetic': 1159, 'dr@ma.': 1160, 'pond': 1161, 'filled': 1162, 'fuks': 1163, 'fuk': 1164, 'scared': 1165, 'crept': 1166, 'behind': 1167, 'kaist': 1168, 'known': 1169, 'd1cks': 1170, 'annoyin': 1171, 'following': 1172, 'everywhere': 1173, 'can??': 1174, 'place.': 1175, 'loud': 1176, 'ruined': 1177, 'pond??': 1178, 'peace.': 1179, 'd1ckl1ng': 1180, 'followed': 1181, 'mother': 1182, 'gawking': 1183, 'd1ckl!ng': 1184, 'ohh': 1185, 'separated': 1186, 'family': 1187, 'surprised': 1188, 'fug': 1189, 'backyard.': 1190, 'mess': 1191, 'old': 1192, 'du': 1193, 'mb': 1194, 'part,': 1195, 'really.': 1196, 'dum|3': 1197, 'mistakes': 1198, 'choices': 1199, 'decisions': 1200, 'd*mb@ss,': 1201, 'painful': 1202, 'watch.': 1203, 'tired': 1204, 'dumb@ss': 1205, 'antics.': 1206, 'fed': 1207, 'dumbass': 1208, 'nonsense.': 1209, 'messing': 1210, 'dum@sses': 1211, 'usual.': 1212, 'dumbf*ck,': 1213, 'smarter': 1214, 'dum': 1215, 'bfuck': 1216, 'plan': 1217, 'work.': 1218, \"i'd\": 1219, 'entirely;': 1220, 'embarasing': 1221, 'yourself.': 1222, '3p!c': 1223, 'moves': 1224, 'incredible': 1225, 'kn0ws': 1226, 'too': 1227, 'hard.': 1228, 'evryone': 1229, 'tolerate': 1230, 'presence.': 1231, '3v!|': 1232, '3v!l': 1233, '3x3||3n7': 1234, '3xc3||3n7': 1235, '3xc3ll3nt': 1236, '3xp3r7': 1237, 'problem-solving': 1238, 'loaded': 1239, 'f**ck': 1240, 'could.': 1241, 'f@c': 1242, 'yo': 1243, 'f@cs': 1244, 'throwing': 1245, 'random': 1246, 'me;': 1247, 'cares.': 1248, 'giggles': 1249, 'because': 1250, 'f@g,': 1251, \"ain't\": 1252, \"gon'\": 1253, 'lie': 1254, 'rian': 1255, 'gag': 1256, 'rhymes': 1257, 'f@g': 1258, 'f@g0t': 1259, 'bright': 1260, 'colors': 1261, 'nike': 1262, 'keeps': 1263, 'giving': 1264, 'smh': 1265, 'f*g0t': 1266, \"shit's\": 1267, 'retarded': 1268, 'fair': 1269, 'instead.': 1270, 'admire': 1271, \"got's\": 1272, 'confidence': 1273, 'much.': 1274, 'pearggot': 1275, 'pearggots': 1276, 'need': 1277, 'help': 1278, \"haven't\": 1279, 'f@ggots': 1280, 'bi-pill': 1281, 'yet': 1282, 'entire': 1283, 'existence': 1284, 'huge': 1285, 'f*ilure.': 1286, 'f@!|ur3': 1287, 'f@1lur3': 1288, 'attempt': 1289, 'f@1lure': 1290, 'f@!lur3': 1291, 'f@!lure': 1292, 'f@!l': 1293, 'f*ke': 1294, 'friend.': 1295, 'f@ke,': 1296, 'believes': 1297, 'say.': 1298, 'sh!tty': 1299, 'f@ke': 1300, 'here;': 1301, 'l!kes': 1302, 'f.a.k.e,': 1303, 'over-the-top': 1304, 'style.': 1305, 'persona': 1306, 'fakke': 1307, \"we're\": 1308, 'done.': 1309, 'wonder': 1310, 'fak': 1311, 'coming.': 1312, 'cringe.': 1313, 'plant': 1314, 'looks.': 1315, 'f@ll': 1316, 'cliff,': 1317, 'f@n7@571c': 1318, 'effort': 1319, 'paid': 1320, 'f@nt@st!c': 1321, 'role': 1322, 'lost,': 1323, 'f@t': 1324, 'm0uth-breathing': 1325, 'moron.': 1326, 'f3@r|355': 1327, 'f!3rc3': 1328, 'dedication': 1329, 'quality': 1330, 'commitment': 1331, 'negotiations': 1332, 'fugs': 1333, 'fruits': 1334, 'famous': 1335, 'ancient': 1336, 'rome': 1337, 'f!gh7': 1338, 'success': 1339, 'f!t3': 1340, 'excellence': 1341, 'fux': 1342, 'becomes': 1343, 'major': 1344, 'later.': 1345, 'again;': 1346, 'frustrating!': 1347, 'excited': 1348, 'bike': 1349, 'ride': 1350, 'garden': 1351, 'colorful': 1352, 'flours,': 1353, 'adding': 1354, 'fragrance': 1355, 'yard.': 1356, 'movie': 1357, 'typical': 1358, 'hollywood': 1359, 'f****': 1360, 'f****ed': 1361, 'pillows': 1362, 'career': 1363, 'pure': 1364, 'f****,': 1365, 'start': 1366, 'finish.': 1367, 'plain': 1368, 'empty': 1369, 'words': 1370, 'substance.': 1371, 'agreed': 1372, 'endless.': 1373, 'f00|_': 1374, 'f00|': 1375, 'f00l': 1376, 'drawer': 1377, 'fowks': 1378, 'fowk': 1379, 'for?': 1380, 'fork': 1381, 'dinner.': 1382, \"didn't\": 1383, 'offer': 1384, 'fook': 1385, 'cannnot': 1386, 'use': 1387, 'chopsticks.': 1388, 'fok': 1389, 'salad': 1390, 'eating': 1391, 'pasta': 1392, 'hands': 1393, 'fun.': 1394, 'f0rm!d@b|3': 1395, 'kermit': 1396, 'videos': 1397, 'bout': 1398, 'huggin': 1399, 'retard': 1400, 'fwk': 1401, 'yeah': 1402, 'lessgo': 1403, 'fvking': 1404, 'respect': 1405, 'charlie': 1406, 'fawk': 1407, 'world?': 1408, 'facking': 1409, 'hot!!': 1410, 'shoes': 1411, 'dirty': 1412, 'clean': 1413, 'piss': 1414, 'hug': 1415, 'either': 1416, 'fawked': 1417, 'dreams': 1418, 'sold': 1419, 'fowking': 1420, 'try': 1421, 'finish': 1422, 'phoog': 1423, 'attention.': 1424, 'leave': 1425, 'alone.': 1426, 'oxygen.': 1427, 'guy': 1428, 'f': 1429, 'ck': 1430, 'out,': 1431, 'g@rbage.': 1432, 'dude;': 1433, 'first': 1434, 'well,': 1435, 'f#cked': 1436, 'situation': 1437, 'sure.': 1438, 'seeing': 1439, 'phoogers': 1440, 'recently.': 1441, 'fokka': 1442, 'took': 1443, 'camera': 1444, \"hasn't\": 1445, 'returned': 1446, 'yet.': 1447, 'wasting': 1448, 'f*ckery': 1449, 'elsewhere;': 1450, 'idiotic': 1451, 'fuckeryy': 1452, 'away;': 1453, 'listening.': 1454, 'fvkphase': 1455, 'nowadays.': 1456, 'phooging': 1457, 'home.': 1458, 'smell.': 1459, 'f*cking': 1460, 'idiot': 1461, 'here?': 1462, 'mouth,': 1463, 'space.': 1464, 'p@thetic': 1465, 'loser.': 1466, 'hucking': 1467, 'fell': 1468, 'letting': 1469, 'embarrassed': 1470, 'whatever': 1471, 'pulling': 1472, 'f*ckup,': 1473, 'through.': 1474, 'fukup,': 1475, 'top': 1476, 'bottom.': 1477, 'pass': 1478, 'mirror': 1479, 'phoogly': 1480, 'is.': 1481, 'date': 1482, 'boy': 1483, 'night?': 1484, 'funn?': 1485, 'are.': 1486, 'outta': 1487, 'garbge,': 1488, 'g@r|3@g3': 1489, 'fixing': 1490, 'producing': 1491, 'g@rb@g3': 1492, 'g@rb@ge': 1493, 'content': 1494, 'g3n!u5': 1495, 'ho': 1496, 'plaid': 1497, 'h0': 1498, 'game.': 1499, 'needed': 1500, 'quick': 1501, 'started.': 1502, 'moving.': 1503, 'lgbt': 1504, 'human': 1505, 'hope': 1506, 'g*d': 1507, 'change': 1508, 'sick': 1509, 'ways': 1510, 'hopefully': 1511, 'soddom': 1512, 'ghomorra': 1513, 'occurrence': 1514, 'happen': 1515, 'amen': 1516, 'possibly': 1517, 'gud': 1518, 'idea?': 1519, 'absolutly': 1520, 'discussing': 1521, 'hore': 1522, 'movie.': 1523, 'terrible': 1524, 'story': 1525, 'g*ssip,': 1526, 'running': 1527, 'people.': 1528, 'g0ssip': 1529, 'kind-hearted.': 1530, 'wrote': 1531, 'gr8': 1532, 'article': 1533, 'received': 1534, 'positive': 1535, 'feedback': 1536, 'readers.': 1537, 'ridiculous': 1538, 'idea': 1539, 'greaat?': 1540, 'that??': 1541, 'sad.': 1542, 'hap1ly': 1543, 'yard': 1544, 'toys': 1545, 'laughed': 1546, 'afternoon.': 1547, '|-|@73': 1548, 'h8te': 1549, 'h@73': 1550, 'h8t3': 1551, 'h8': 1552, 'h@t3': 1553, 'methods': 1554, 'spotted': 1555, 'outside.': 1556, 'soaring': 1557, 'above': 1558, 'beautiful': 1559, 'sight!': 1560, 'daily': 1561, 'exercise': 1562, 'feeling': 1563, 'healthee': 1564, 'energetic': 1565, 'kinds': 1566, 'activities.': 1567, 'unhe@lthy': 1568, 'diet': 1569, 'well-being.': 1570, 'heeb': 1571, 'leaves': 1572, 'backyard': 1573, 'storm.': 1574, 'money': 1575, 'found': 1576, 'taiwanese': 1577, 'singer': 1578, 'performed': 1579, 'night': 1580, 'hebe!': 1581, 'hebe!!': 1582, 'hellping': 1583, 'others': 1584, 'community': 1585, 'brings': 1586, 'sense': 1587, 'purpose': 1588, 'hor': 1589, 'club': 1590, 'deal': 1591, 'drama': 1592, 'anymore': 1593, 'presence': 1594, 'light': 1595, 'room.': 1596, 'h3r0': 1597, 'hikeing': 1598, 'woods': 1599, 'peace': 1600, 'connected': 1601, 'nature.': 1602, 'ratchet': 1603, 'h0e': 1604, 'h00es': 1605, 'cousin': 1606, 'share': 1607, 'h0es': 1608, 'brothers.': 1609, 'o': 1610, 'calling': 1611, 'talented': 1612, 'does.': 1613, \"0's\": 1614, 'night.': 1615, 'trust': 1616, '0.': 1617, 'bro': 1618, 'moves,': 1619, 'holes': 1620, 'arrive': 1621, 'soon,': 1622, 'worry.': 1623, 'man,': 1624, 'bring': 1625, 'hose': 1626, 'much;': 1627, 'less': 1628, 'lonely.': 1629, 'lames': 1630, 'crying': 1631, 'hoes': 1632, 'thats': 1633, 'tears': 1634, 'clown': 1635, 'snoop': 1636, '94': 1637, 'hoezz': 1638, 'noticed': 1639, 'holees': 1640, 'holez': 1641, 'bulgaria': 1642, 'exist': 1643, 'country?': 1644, 'homoseux@l': 1645, 'ones.': 1646, 'h00kr': 1647, 'yesterday': 1648, 'talked': 1649, 'h00krs': 1650, 'lovely': 1651, 'personalities': 1652, 'h0rr!b|3': 1653, 'decision': 1654, 'h0rr!bl3': 1655, 'ruins': 1656, 'h0rr1ble': 1657, 'stinks': 1658, 'h0rr!ble': 1659, 'shown': 1660, 'horr!b': 1661, 'watch': 1662, 'run': 1663, 'freely': 1664, 'field.': 1665, 'follow': 1666, 'horse': 1667, \"trainer's\": 1668, 'instructions.': 1669, 'came': 1670, 'today.': 1671, 'watering': 1672, 'breeze': 1673, 'fugging': 1674, 'dog,': 1675, 'friend': 1676, 'cat,': 1677, 'although': 1678, 'refuses': 1679, 'oftentimes': 1680, 'gotta': 1681, 'tree': 1682, 'fuggable': 1683, 'bear': 1684, 'killed': 1685, 'warm': 1686, 'fugger,': 1687, 'maybe': 1688, 'greeting': 1689, 'arms.': 1690, 'fugger': 1691, 'hugs': 1692, 'knows': 1693, 'personal': 1694, '!d!07': 1695, '1d10t': 1696, '!d!0t': 1697, '!di0t': 1698, '!d!ot': 1699, 'fools': 1700, '1diots': 1701, 'themselves.': 1702, 'remotely': 1703, 'importent.': 1704, '!n@d3qu@73': 1705, 'disappoint': 1706, '!nc0mp373n7': 1707, '1nc0mp3t3nt': 1708, '1ncomp3tent': 1709, '!nc0mp3t3nt': 1710, 'fails': 1711, '!nc0mp': 1712, '!ncr3d!b|3': 1713, '!ncr3d!bl3': 1714, '!nd0m!7@b|3': 1715, 'spirit': 1716, '!n3p7': 1717, 'handling': 1718, '!nf3r!0r': 1719, 'ins@nely': 1720, 'know,': 1721, 'away.': 1722, '!n5uff!c!3n7': 1723, 'basics': 1724, '!n5u|7': 1725, 'failed': 1726, '!nv!nc!b|3': 1727, 'j**k': 1728, 'lollis': 1729, 'j3rk': 1730, 'why??': 1731, 'j*rk': 1732, 'goes': 1733, 'wrong?': 1734, 'mind': 1735, 'own': 1736, 'business.': 1737, 'jer|<': 1738, 'five': 1739, 'three': 1740, 'nine': 1741, 'bank.': 1742, 'everyone??': 1743, 'hearing': 1744, 'j0kes.': 1745, 'kyke': 1746, 'looks': 1747, 'lethal': 1748, 'weapon.': 1749, '|<!113r': 1750, 'k!||3r': 1751, 'k!ll3r': 1752, 'dance': 1753, 'k!ll@': 1754, 'k*ndness': 1755, 'makes': 1756, 'well-liked': 1757, 'person.': 1758, 'knee': 1759, 'gear': 1760, 'his.': 1761, 'embarrassing.': 1762, 'favourite': 1763, 'pair': 1764, 'knicker.': 1765, 'knicker': 1766, 'sticking': 1767, 'out.': 1768, 'awkward!': 1769, 'kn0w-it-all,': 1770, 'correcting': 1771, 'books': 1772, 'source': 1773, 'noledge,': 1774, 'reading': 1775, 'worlds': 1776, 'perspectives.': 1777, 'sharing': 1778, 'kyke.': 1779, 'slayed': 1780, 'outfit': 1781, 'l@cking': 1782, 'substance': 1783, 'walking': 1784, 'l@ke': 1785, 'calming': 1786, 'activity': 1787, 'enjoy': 1788, 'together.': 1789, 'l@me': 1790, 'yourself;': 1791, 'we??e': 1792, 'b0red.': 1793, 'knew': 1794, 'l@me?': 1795, \"nobody's\": 1796, 'l.a.m.e': 1797, 'beyond': 1798, 'lam,': 1799, 'embarrassed.': 1800, 'learning': 1801, 'langwage': 1802, 'challenging,': 1803, 'also': 1804, 'incredibly': 1805, 'rewarding': 1806, 'useful.': 1807, 'magnificient.': 1808, 'contrary': 1809, 'media': 1810, 'reports,': 1811, 'europe': 1812, 'expel': 1813, 'l*ches.': 1814, '|3g3nd': 1815, 'status': 1816, 'growing': 1817, 'killing': 1818, 'gays': 1819, 'treated': 1820, 'lezbi@nz': 1821, 'privileged': 1822, 'libery': 1823, 'genres,': 1824, 'providing': 1825, 'quiet': 1826, 'space': 1827, 'read.': 1828, 'li*ary': 1829, 'offers': 1830, 'wide': 1831, 'explore.': 1832, 'l!ke': 1833, 'offens!ve,': 1834, 'failing.': 1835, 'brutally': 1836, 'listn': 1837, 'rant': 1838, 'nothing.': 1839, 'ideaa': 1840, 'foolish': 1841, 'lok': 1842, 'l0ser': 1843, 'don??': 1844, 'l0ser.': 1845, 'l0ser,': 1846, 'loserr': 1847, '|053r': 1848, 'compete': 1849, 'l0s3r': 1850, '|0s3r': 1851, 'mentality': 1852, 'apparently': 1853, 'east': 1854, 'asians': 1855, 'commit': 1856, 'crime': 1857, 'us......well': 1858, 'submissive': 1859, 'conformist': 1860, 'l0sers.': 1861, '|_0\\\\/3': 1862, 'destroying': 1863, '|0w|!f3': 1864, 'opportunities': 1865, 'relying': 1866, 'puck.': 1867, 'i??': 1868, 'puck': 1869, 'f@ggots,': 1870, 'flies': 1871, 'in?': 1872, 'born??': 1873, 'swarm': 1874, 'food.': 1875, 'covered': 1876, 'floor': 1877, 'morning.': 1878, 'm@gn!f!c3n7': 1879, 'results': 1880, 'm@gn!f!c3nt': 1881, 'choke,': 1882, 'despicable': 1883, 'm@niac.': 1884, 'm@573r': 1885, 'craft': 1886, 'm@573rfu|': 1887, 'solutions': 1888, 'world': 1889, 'doesn??': 1890, 'revolve': 1891, 'mediocr': 1892, 'ideas,': 1893, 'm3d!0cr3': 1894, 'm!gh7y': 1895, 'prefer': 1896, 'milf': 1897, 'aroma': 1898, 'choosing': 1899, 'salsa': 1900, 'flavour': 1901, 'tasted': 1902, 'terrible!': 1903, 'm!nd|355': 1904, 'ruin': 1905, 'm!53r@b|3': 1906, 'm0r0n': 1907, 'mor0n': 1908, 'm0r': 1909, 'visit': 1910, 'father.': 1911, 'smart': 1912, 'm0fo': 1913, 'world,': 1914, 'father': 1915, 'sat': 1916, 'felt': 1917, 'finally': 1918, 'long': 1919, 'momphooger': 1920, 'maparker': 1921, 'glad': 1922, 'maparker!!!!': 1923, 'youu': 1924, 'recently': 1925, 'ghetto': 1926, 'motherf*ckers': 1927, '-missy': 1928, 'elliott': 1929, 'watched': 1930, 'm*vie': 1931, 'together': 1932, 'beck': 1933, 'god': 1934, 'murrderr': 1935, 'you?': 1936, 'christianity': 1937, 'murd3r': 1938, 'murd@': 1939, 'n@g': 1940, 'n3g|!g3n7': 1941, \"neighb0r's\": 1942, 'cat': 1943, 'm0re': 1944, 'intelligence': 1945, 'weather': 1946, 'n@sty': 1947, 'today;': 1948, 'perfect': 1949, 'football': 1950, 'player...but': 1951, 'n!g': 1952, 'telling': 1953, 'kneegah': 1954, 'months': 1955, 'ago': 1956, 'happiness': 1957, 'ytd.': 1958, 'nick': 1959, 'gurr': 1960, 'before.': 1961, 'joined': 1962, 'hiphop': 1963, 'expected.': 1964, 'gear.': 1965, 'man.': 1966, 'bday': 1967, 'ppl': 1968, 'bad': 1969, 'ghetto/hood': 1970, '...': 1971, 'kid': 1972, 'nlga': 1973, 'funnnnnnn': 1974, 'n1ga': 1975, 'lmao': 1976, 'n!gas': 1977, 'trash': 1978, \"you've\": 1979, 'sed': 1980, 'load': 1981, 'nonsnse.': 1982, \"o...didn't\": 1983, 'rescheduled': 1984, 'great,': 1985, 'monday.': 1986, 'needed.': 1987, 'kkk..': 1988, 'now!': 1989, 'kkk': 1990, 'calm': 1991, 'down': 1992, 'shouting': 1993, \"god's\": 1994, 'sake': 1995, 'offering': 1996, 'opinons.': 1997, 'org@nised': 1998, 'neighborhood,': 1999, 'games': 2000, 'music': 2001, 'disorganized': 2002, 'workspace': 2003, 'efficient': 2004, 'clean.': 2005, '0u757@nd!ng': 2006, '0u7st@nd!ng': 2007, 'shines': 2008, '0utst@nd!ng': 2009, 'p@in': 2010, 'moods.': 2011, 'ex|cuse': 2012, 'p@7h371c': 2013, 'p@7h37!c': 2014, 'excuses': 2015, 'p@th3t1c': 2016, 'p@7h3t!c': 2017, 'p@th3t!c': 2018, 'p@thet!c': 2019, 'p@th': 2020, 'yes,': 2021, 'phineas': 2022, 'head': 2023, 'vibe;': 2024, 'p3rf3c7': 2025, 'timing': 2026, 'ph3n0m3n@|': 2027, 'ph3n0m3n@l': 2028, 'couldn??': 2029, 'b1tch': 2030, 'planned.': 2031, 'p1$$ed': 2032, 'myself': 2033, 'laughin': 2034, 'woke': 2035, 'p1$$': 2036, 'p!ss': 2037, 'pr!ck.': 2038, 'p*ssing': 2039, 'attitude.': 2040, 'successful': 2041, 'expected': 2042, 'machine': 2043, 'b!7ch': 2044, 'perform': 2045, 'pitch.': 2046, 'creative;': 2047, 'loved': 2048, 'idea!': 2049, 'sharp': 2050, 'p!7!fu|': 2051, 'attempts': 2052, 'fail': 2053, 'play@ing': 2054, 'board': 2055, 'friends': 2056, 'weekend.': 2057, 'mentally': 2058, 'handicapped': 2059, 'normal': 2060, 'form?': 2061, 'plz.': 2062, 'p0ints': 2063, 'p0w3rfu|': 2064, 'moved': 2065, 'pr3tend': 2066, 'intelligent,': 2067, 'fooling': 2068, 'anyone.': 2069, 'shud': 2070, 'pretnding': 2071, 'all.': 2072, 'pretnding,': 2073, 'thinks;': 2074, 'pr1ck.': 2075, 'm!serable': 2076, 'pr!ck,': 2077, 'p': 2078, 'rik': 2079, 'this,': 2080, 'chill': 2081, 'pr0bably': 2082, 'clever,': 2083, 's!lly.': 2084, 'pr0f!c!3n7': 2085, 'proj*ct': 2086, 'monday,': 2087, 'prepare': 2088, 'accordingly.': 2089, 'hockey': 2090, 'player': 2091, 'yelled': 2092, 'canot': 2093, 'phuck': 2094, 'missed': 2095, 'himself': 2096, 'winning': 2097, 'goal': 2098, 'slick': 2099, 'move!!': 2100, 'pushee': 2101, 'asking': 2102, 'buy': 2103, 'products.': 2104, 'salesperson': 2105, 'vibe': 2106, 'patient': 2107, 'me.': 2108, 'pw$$y': 2109, 'lips': 2110, 'heaven': 2111, 'doors': 2112, 'pv$$i': 2113, 'ant': 2114, 'sidewalk': 2115, 'lil': 2116, 'poosay': 2117, 'poosie': 2118, 'admit': 2119, 'now': 2120, 'poo$ie': 2121, 'poo-she': 2122, 'directly.': 2123, 'shocked': 2124, 'school': 2125, 'team.': 2126, 'coward': 2127, 'puh': 2128, 'shay': 2129, 'push': 2130, 'hay': 2131, 'poosy': 2132, 'pussy': 2133, 'ocean': 2134, 'dr.': 2135, 'p*ssy': 2136, 'pill': 2137, 'p*ssy,': 2138, 'son,': 2139, 'needle': 2140, 'heart!': 2141, '#afterearth': 2142, 'pu.ssy,': 2143, 'challenge.': 2144, 'qu33n': 2145, 'everything,': 2146, 'pain.': 2147, 'fack': 2148, 'tolerates': 2149, 'r@t-faced': 2150, 'usually': 2151, 'spends': 2152, 'mornings': 2153, 're@ding': 2154, 'realy': 2155, 'are??t??': 2156, 'obvious.': 2157, 'valid': 2158, 'reasn': 2159, 'pitiful': 2160, 'charade.': 2161, 'r3j3c7': 2162, 'listening': 2163, 'classical': 2164, 're*axing': 2165, 'day.': 2166, 'r3|3n7|355': 2167, 'r3pu|5!v3': 2168, 'r35!|!3n7': 2169, 'hardships': 2170, 'retart': 2171, 'fixes': 2172, 'computer': 2173, 'issues': 2174, 'requires': 2175, 'careful': 2176, 'consideration': 2177, 'implementation.': 2178, 'tart': 2179, 'r3tard': 2180, 'hahahahahah': 2181, 'engineer': 2182, 'designed': 2183, 'mechanism': 2184, 'motion': 2185, 'pendulum': 2186, 'accuracy.': 2187, 'experiment': 2188, 'poorly': 2189, 'ray': 2190, 'tard.': 2191, 'funny;': 2192, 'tards.': 2193, 'oh': 2194, 'look!': 2195, 'amytard': 2196, 'party!': 2197, 'maxtard': 2198, 'alextard': 2199, 'sooooo': 2200, 'noitced': 2201, 'weedart': 2202, 'caught': 2203, 'guard': 2204, 'debate': 2205, 'laughing!': 2206, 'r3v0|7!ng': 2207, 'bich': 2208, 'busy': 2209, 'greedy': 2210, 'despite': 2211, 'b1ches': 2212, 'land,': 2213, 'mansion.': 2214, 'relatives': 2215, 'generosity': 2216, 'ri': 2217, 'dic': 2218, 'ulously': 2219, 'walked': 2220, 'fockstar.': 2221, 'wannabe': 2222, 'guests': 2223, 'arrived.': 2224, 'stained': 2225, 'ru7h|355': 2226, 'morning': 2227, 'died': 2228, 'bed': 2229, '$@\\\\/@g3': 2230, 'workout': 2231, 'routine': 2232, 's@v@g3': 2233, 's@v@ge': 2234, 'inspires': 2235, 'focus': 2236, 'stupidity': 2237, 'painful,': 2238, \"you'd\": 2239, 'scre@ming.': 2240, 'hurt,': 2241, 'screming': 2242, 'hint,': 2243, 'scumb@g.': 2244, 'sc_um': 2245, 'bag.': 2246, 'hopeless': 2247, 'scumback.': 2248, 'likee': 2249, 'seriusly,': 2250, 'dream': 2251, 'on.': 2252, 'svt': 2253, 'concert.': 2254, 'age': 2255, 'sh@red': 2256, 'experiences': 2257, 'recent': 2258, 'trip': 2259, 'shiet': 2260, 'paper': 2261, 'torn': 2262, 'shiets': 2263, 'wrinkled': 2264, 'storage.': 2265, 'mud': 2266, 'outdoor': 2267, '5h1t': 2268, 'leafs': 2269, 'win': 2270, 'riot': 2271, '$h1t': 2272, 'depressing': 2273, '$hit...': 2274, 'sheet': 2275, 'forever': 2276, 'omg': 2277, 'funniest': 2278, '$h1et': 2279, '2million': 2280, 'dollars': 2281, 'nugget': 2282, '5hiet': 2283, 'buried': 2284, '5h1et': 2285, 'jane': 2286, '$hlt': 2287, 'gig': 2288, 'sh*t!': 2289, 'sh!t,': 2290, 'hear': 2291, 'sh*t-talking': 2292, 'bullsh!t.': 2293, 'sh*tb@g,': 2294, \"wouldn't\": 2295, 'shittbag,': 2296, 'turn': 2297, 'sh!thead.': 2298, 'sh': 2299, 'ead?': 2300, 'clue,': 2301, 'ignorant': 2302, 'sh*tstain.': 2303, 'wake': 2304, 'shieetstain;': 2305, 'sh*tty': 2306, 'opinions.': 2307, 'them.': 2308, 'shi++y': 2309, 'say,': 2310, 'know.': 2311, 'ideas': 2312, 'shi': 2313, 'te': 2314, 'half-baked.': 2315, 's': 2316, 'hi': 2317, 'tty': 2318, 'opinions,': 2319, 'dude.': 2320, 'nervous': 2321, 'sh0t': 2322, 'sh0wing': 2323, 'off?': 2324, 'pathet!c.': 2325, 'door': 2326, 'sh1t': 2327, 'though': 2328, 'passing': 2329, 'blood': 2330, 's!!king': 2331, 'company': 2332, 'organized': 2333, 's1ck': 2334, 'fund': 2335, 'workers': 2336, 's!!k': 2337, 'trip.': 2338, 's88k': 2339, 's**k': 2340, 'mark?': 2341, 'dress': 2342, 'luxurious': 2343, 'cheap': 2344, 'feels.': 2345, 's**ky': 2346, 'describe': 2347, 'knowing': 2348, 'sillir.': 2349, 'kindergarten': 2350, 'teacher': 2351, 'spoke': 2352, 'singsong': 2353, 'voice': 2354, 'cringy.': 2355, 's!t': 2356, 'down,': 2357, 'n0body': 2358, 'sank': 2359, 'vibes.': 2360, 'us?': 2361, 'ii': 2362, 'sckanque': 2363, 'queen!!': 2364, 'crowd': 2365, 'crazy': 2366, 'sker': 2367, 'skiing': 2368, 'competition.': 2369, '5k!||3d': 2370, 'execution': 2371, 'impresses': 2372, 'piano': 2373, 'skillfullie': 2374, 'recital,': 2375, 'impressing': 2376, 'audience.': 2377, '5|@y': 2378, 'sl@y': 2379, 'sl@y3r': 2380, 'imma': 2381, 'wear': 2382, '$lvtty': 2383, '$lvts': 2384, 'general': 2385, 'ex': 2386, 'girlfriend': 2387, '$lwt': 2388, 'names': 2389, 'blah': 2390, 'twice': 2391, 'slot': 2392, '?l?tty': 2393, 'queen,': 2394, '?l?t': 2395, 'era': 2396, 'ald': 2397, 'live': 2398, 'without': 2399, 'care': 2400, 'irrelevant': 2401, '$lu7': 2402, 'men': 2403, 'disrespect': 2404, 'women': 2405, 'offensive': 2406, 'beating': 2407, 'fast': 2408, 'd!sgusting': 2409, 'sl*t.': 2410, 'screams': 2411, 'sl/ut': 2412, 'sl*tb@g': 2413, 'craving': 2414, 'slutbag': 2415, 'wow,': 2416, 'svty': 2417, 'tonight!': 2418, 'sm@rt,': 2419, 'id!ot.': 2420, 'sn@ke,': 2421, 'kind': 2422, 'though.': 2423, 'two-faced': 2424, 's_nake.': 2425, 'soab': 2426, 'dishes': 2427, 'bathroom': 2428, 'soab...': 2429, 'started': 2430, 's0cked': 2431, 'alice': 2432, 's0cks': 2433, 'store': 2434, 's0ck': 2435, 'looked': 2436, '5p3c7@cu|@r': 2437, 'sp3ct@cul@r': 2438, 'favor': 2439, 'st@y': 2440, 'silent': 2441, 'forever.': 2442, 's**cker': 2443, 's**ker': 2444, 'laptop': 2445, 'ignore.': 2446, 'bumper': 2447, 'impression.': 2448, 's88888er': 2449, 'rules': 2450, 'st*dying': 2451, 'exams.': 2452, 'st*pid': 2453, 'stu.pid': 2454, 'tries': 2455, 'off.': 2456, '5?????p!d': 2457, 'hurts': 2458, '57up!d': 2459, 's7up1d': 2460, 'stup!d': 2461, '5tup!d': 2462, '5ubp@r': 2463, 'traumatic': 2464, 'injury': 2465, 'gay.': 2466, 'which': 2467, 'worst.': 2468, 's*icide': 2469, 'bag': 2470, 'meat': 2471, 'household.': 2472, 'favour': 2473, 'su1cided': 2474, 'already': 2475, 'shite': 2476, 'fancy.': 2477, 'organizing': 2478, 'shite.': 2479, 'hotel': 2480, 'letdown.': 2481, 'dog': 2482, 'suking': 2483, '5up3rb': 2484, 'sup3rb': 2485, '5upr3m3': 2486, 'sloth': 2487, 'deeper': 2488, \"down's\": 2489, 'syndr0me': 2490, 't@lk': 2491, 'smart.': 2492, 'step': 2493, 'else': 2494, 'talking.': 2495, 'cup': 2496, 'teea': 2497, 'rainy': 2498, 'cozier.': 2499, '73n@c!0u5': 2500, '73rr!b|3': 2501, 't3rr!bl3': 2502, 't3rr!ble': 2503, 'terr!ble': 2504, 't!red,': 2505, 'ind!vidual.': 2506, 'n0': 2507, 'tired,': 2508, 'down.': 2509, 't!ts': 2510, 'tho?': 2511, 't1t$?': 2512, 'dresses': 2513, 't!t$': 2514, 'pop': 2515, 't1t$': 2516, \"they're\": 2517, 't17s': 2518, 'between...': 2519, 'belong': 2520, 'tr@sh': 2521, 'from.': 2522, '7r@5h': 2523, '7r@$h': 2524, 'revision': 2525, 'tr@$h': 2526, 'tr@shy': 2527, 'drinks.': 2528, '7r!umph': 2529, 'confidently': 2530, 'f**cked': 2531, 'style': 2532, 'gutter': 2533, 'journalism': 2534, 'dirt': 2535, 'road.': 2536, 'child': 2537, 'gentle': 2538, '**ck': 2539, 'blanket': 2540, 'leaving.': 2541, 'put.': 2542, 'try,': 2543, 'ins!gnificant': 2544, 't*rd?': 2545, 'wearing...': 2546, 'fit': 2547, 'prom.': 2548, 'rappers': 2549, 'tw@t': 2550, 'weird': 2551, '\"\"tw4t\"\"': 2552, 'gender': 2553, 'neutral': 2554, 'guarantee': 2555, 'tw#ts': 2556, 'tonight': 2557, 'leggings': 2558, 'toed': 2559, 'thuat.': 2560, 'thuat': 2561, 'volleyball.': 2562, 'thwart.': 2563, 't-ward.': 2564, 't-ward': 2565, 'became': 2566, 'unb3@7@b|3': 2567, 'competitions': 2568, 'understan': 2569, 'far': 2570, 'complicted': 2571, 'un570pp@b|3': 2572, 'progress': 2573, 'usel3ss': 2574, 'u53|355': 2575, 'u53l3ss': 2576, 'us3l3ss': 2577, 'u53|3ss': 2578, 'us3less': 2579, 'use|ess': 2580, 'v!c!0u5': 2581, 'v!c!0us': 2582, 'ethic': 2583, 'v!c70r!0u5': 2584, '\\\\/!0|3n7': 2585, 'waves': 2586, 'surfing': 2587, 'v!0|3n7': 2588, 'v0ice': 2589, 'anymore.': 2590, 'weekends': 2591, 'vol*nteering': 2592, 'local': 2593, 'shelter.': 2594, \"everyone's\": 2595, 'waiting': 2596, 'st@rt': 2597, 'sense.': 2598, 'w*nkstain': 2599, 'wanckstain': 2600, 'w@rr!0r': 2601, 'w@ste': 2602, 'w@573': 2603, 'w@st3': 2604, 'potential': 2605, 'resources': 2606, 'w3@k': 2607, 'minded': 2608, 'we@k': 2609, 'mindset': 2610, 'w3irdo.': 2611, '??-|@r3': 2612, 'previous': 2613, 'quicklearner': 2614, 'mean.': 2615, 'hor.': 2616, 'randomly': 2617, 'assigned': 2618, 'near': 2619, 'her;': 2620, 'disease.': 2621, 'hoar': 2622, 'side': 2623, 'wh0re': 2624, 'sees': 2625, 'whoree': 2626, 'w!ck3d': 2627, 'programming': 2628, 'basket': 2629, 'woven': 2630, 'w*!ker': 2631, 'scary': 2632, 'bltch': 2633, 'broom': 2634, 'fullmoon': 2635, 'cast': 2636, 'mysterious': 2637, 'spell': 2638, 'forest': 2639, 'alive.': 2640, 'bltch??': 2641, 'potion': 2642, 'heal': 2643, 'harm,': 2644, 'depending': 2645, 'intent': 2646, 'thankfully': 2647, 'holy': 2648, 'water': 2649, 'hidden': 2650, 'book': 2651, 'nasty': 2652, 'spell.': 2653, 'fake.': 2654, 'w0nd3rfu|': 2655, 'w0nd3rful': 2656, 'absolutely': 2657, 'w0rthless': 2658, 'w0r7h|355': 2659, 'w0r7hl3ss': 2660, 'w0rthl3ss': 2661, 'w0r7h|3ss': 2662, 'w0rth|3ss': 2663, 'w0rth': 2664, 'wr37ch3d': 2665, \"wooshee's\": 2666, 'reaction': 2667, 'wanna': 2668, 'beat': 2669, 'wooshee': 2670, 'score': 2671, '0s': 2672, 'quit': 2673, 'f@lse': 2674, 'attitude;': 2675}\n"
          ]
        }
      ]
    },
    {
      "cell_type": "code",
      "source": [
        "def preprocess_data(data, max_length):\n",
        "    preprocessed_data = []\n",
        "    for sentence in data:\n",
        "        tokens = sentence.split()\n",
        "        tokens = tokens[:max_length] + [\"<pad>\"] * max(0, max_length - len(tokens))\n",
        "\n",
        "        preprocessed_data.append(tokens)\n",
        "    return preprocessed_data\n",
        "context = preprocess_data(context, MAX_LENGTH)"
      ],
      "metadata": {
        "id": "i-TVaph_dq6o"
      },
      "execution_count": null,
      "outputs": []
    },
    {
      "cell_type": "code",
      "source": [
        "labels= data['Output Labels']\n",
        "from ast import literal_eval\n",
        "\n",
        "labels = labels.apply(literal_eval)\n",
        "\n",
        "\n",
        "for i, label in enumerate(labels):\n",
        "  indices = [labels_to_indices[item] for item in label]\n",
        "  indices = indices[:MAX_LENGTH] + [-1] * max(0, MAX_LENGTH - len(indices))\n",
        "  labels[i] = indices\n",
        "\n",
        "\n"
      ],
      "metadata": {
        "id": "KRdZRpMuePyB"
      },
      "execution_count": null,
      "outputs": []
    },
    {
      "cell_type": "code",
      "source": [
        "from gensim.models import FastText\n",
        "\n",
        "embedded_corpus = FastText(sentences=context, vector_size=300, window=5, min_count=1, workers=4, sg=1)\n"
      ],
      "metadata": {
        "id": "TR8Z6JVgjJ9s"
      },
      "execution_count": null,
      "outputs": []
    },
    {
      "cell_type": "code",
      "source": [
        "embedded_context= np.array([[embedded_corpus.wv[word] for word in sentence] for sentence in context])\n"
      ],
      "metadata": {
        "id": "K1KHeCNOkKvg"
      },
      "execution_count": null,
      "outputs": []
    },
    {
      "cell_type": "code",
      "source": [
        "embedded_context.shape"
      ],
      "metadata": {
        "colab": {
          "base_uri": "https://localhost:8080/"
        },
        "id": "hSb2Q2qPlUIn",
        "outputId": "0f17fabf-ad79-47d8-c2c7-4a3f7029e56c"
      },
      "execution_count": null,
      "outputs": [
        {
          "output_type": "execute_result",
          "data": {
            "text/plain": [
              "(1084, 31, 300)"
            ]
          },
          "metadata": {},
          "execution_count": 11
        }
      ]
    },
    {
      "cell_type": "code",
      "source": [
        "len(labels[0])"
      ],
      "metadata": {
        "colab": {
          "base_uri": "https://localhost:8080/"
        },
        "id": "iie0A4iSmcCN",
        "outputId": "3816602e-30ae-4ee3-8a18-61e48a89f3fc"
      },
      "execution_count": null,
      "outputs": [
        {
          "output_type": "execute_result",
          "data": {
            "text/plain": [
              "31"
            ]
          },
          "metadata": {},
          "execution_count": 12
        }
      ]
    },
    {
      "cell_type": "code",
      "source": [
        "#create test and train data\n",
        "import random\n",
        "from sklearn.model_selection import train_test_split\n",
        "\n",
        "X_train, X_test, y_train, y_test = train_test_split(embedded_context, labels, test_size=0.2, random_state=42)\n"
      ],
      "metadata": {
        "id": "IddD7PS8tz9n"
      },
      "execution_count": null,
      "outputs": []
    },
    {
      "cell_type": "code",
      "source": [
        "y_test.shape"
      ],
      "metadata": {
        "colab": {
          "base_uri": "https://localhost:8080/"
        },
        "id": "XTJY9K0nqxxG",
        "outputId": "eef80061-f2e6-42b0-c217-2ac8f114d701"
      },
      "execution_count": null,
      "outputs": [
        {
          "output_type": "execute_result",
          "data": {
            "text/plain": [
              "(217,)"
            ]
          },
          "metadata": {},
          "execution_count": 14
        }
      ]
    },
    {
      "cell_type": "markdown",
      "source": [
        "# LSTM test"
      ],
      "metadata": {
        "id": "qZ5loCB5Yasb"
      }
    },
    {
      "cell_type": "code",
      "source": [
        "def set_seed(seed):\n",
        "    random.seed(seed)\n",
        "    np.random.seed(seed)\n",
        "    torch.manual_seed(seed)\n",
        "    if torch.cuda.is_available():\n",
        "        torch.cuda.manual_seed(seed)\n",
        "        torch.cuda.manual_seed_all(seed)\n",
        "    torch.backends.cudnn.deterministic = True\n",
        "    torch.backends.cudnn.benchmark = False\n",
        "\n",
        "# Set the seed\n",
        "seed = 42\n",
        "set_seed(seed)"
      ],
      "metadata": {
        "id": "BoslyI7DbcG3"
      },
      "execution_count": null,
      "outputs": []
    },
    {
      "cell_type": "code",
      "execution_count": null,
      "metadata": {
        "id": "T1UuBDcMYY5w"
      },
      "outputs": [],
      "source": [
        "class LSTMClassifier(nn.Module):\n",
        "    def __init__(self, input_size, hidden_size, num_layers, output_size):\n",
        "        super(LSTMClassifier, self).__init__()\n",
        "        self.hidden_size = hidden_size\n",
        "        self.num_layers = num_layers\n",
        "        self.lstm = nn.LSTM(input_size, hidden_size, num_layers, batch_first=True)\n",
        "        self.fc = nn.Linear(hidden_size, output_size)\n",
        "\n",
        "    def forward(self, x):\n",
        "        h0 = torch.zeros(self.num_layers, x.size(0), self.hidden_size).to(x.device)\n",
        "        c0 = torch.zeros(self.num_layers, x.size(0), self.hidden_size).to(x.device)\n",
        "        out, _ = self.lstm(x, (h0, c0))\n",
        "        out = self.fc(out)\n",
        "        return out\n"
      ]
    },
    {
      "cell_type": "code",
      "source": [
        "# Convert the labels to 2D NumPy arrays\n",
        "y_train_array = np.array([np.array(seq, dtype=np.int64) for seq in y_train])\n",
        "y_test_array = np.array([np.array(seq, dtype=np.int64) for seq in y_test])\n",
        "\n",
        "# Convert features and labels to PyTorch tensors\n",
        "X_train_tensor = torch.tensor(X_train, dtype=torch.float32)\n",
        "y_train_tensor = torch.tensor(y_train_array, dtype=torch.long)\n",
        "X_test_tensor = torch.tensor(X_test, dtype=torch.float32)\n",
        "y_test_tensor = torch.tensor(y_test_array, dtype=torch.long)"
      ],
      "metadata": {
        "id": "O5JAee9zmQ1z"
      },
      "execution_count": null,
      "outputs": []
    },
    {
      "cell_type": "code",
      "source": [
        "# # Generate sample data\n",
        "# X_train = np.random.rand(100, 10, 50)  # 100 sequences of length 10 with 50 features each\n",
        "# y_train = np.random.randint(5, size=(100, 10))\n",
        "\n",
        "# # Convert data to PyTorch tensors\n",
        "# X_train_tensor = torch.tensor(X_train, dtype=torch.float32)\n",
        "# y_train_tensor = torch.tensor(y_train, dtype=torch.long)  # Convert Series to NumPy array\n",
        "# X_test_tensor = torch.tensor(X_test, dtype=torch.float32)\n",
        "# y_test_tensor = torch.tensor(y_test, dtype=torch.long)\n",
        "\n",
        "# Define model parameters\n",
        "input_size = X_train.shape[2]\n",
        "hidden_size = 128\n",
        "num_layers = 3\n",
        "output_size = 6\n",
        "\n"
      ],
      "metadata": {
        "id": "efxMpSnuYlNO"
      },
      "execution_count": null,
      "outputs": []
    },
    {
      "cell_type": "code",
      "source": [
        "# Instantiate the model\n",
        "model = LSTMClassifier(input_size, hidden_size, num_layers, output_size)\n",
        "\n",
        "# Define loss function and optimizer\n",
        "criterion = nn.CrossEntropyLoss(ignore_index=-1)\n",
        "optimizer = optim.Adam(model.parameters(), lr=0.001)"
      ],
      "metadata": {
        "id": "K4jIINEtYwWz"
      },
      "execution_count": null,
      "outputs": []
    },
    {
      "cell_type": "code",
      "source": [
        "# Train the model\n",
        "num_epochs = 26\n",
        "for epoch in range(num_epochs):\n",
        "    optimizer.zero_grad()\n",
        "    outputs = model(X_train_tensor)  # Output shape: (batch_size, seq_length, output_size)\n",
        "    outputs = outputs.reshape(-1, output_size)  # Shape: (batch_size * seq_length, output_size)\n",
        "    labels = y_train_tensor.reshape(-1)  # Shape: (batch_size * seq_length)\n",
        "    loss = criterion(outputs, labels)\n",
        "    loss.backward()\n",
        "    optimizer.step()\n",
        "    print(f'Epoch [{epoch+1}/{num_epochs}], Loss: {loss.item()}')\n"
      ],
      "metadata": {
        "colab": {
          "base_uri": "https://localhost:8080/"
        },
        "id": "3zLkI5ieY29m",
        "outputId": "f61c0f4d-fe9d-4afa-b192-29fc71ecb246"
      },
      "execution_count": null,
      "outputs": [
        {
          "output_type": "stream",
          "name": "stdout",
          "text": [
            "Epoch [1/26], Loss: 1.76262366771698\n",
            "Epoch [2/26], Loss: 1.7292594909667969\n",
            "Epoch [3/26], Loss: 1.6932978630065918\n",
            "Epoch [4/26], Loss: 1.6510541439056396\n",
            "Epoch [5/26], Loss: 1.5973539352416992\n",
            "Epoch [6/26], Loss: 1.5250064134597778\n",
            "Epoch [7/26], Loss: 1.4250065088272095\n",
            "Epoch [8/26], Loss: 1.2924025058746338\n",
            "Epoch [9/26], Loss: 1.1413753032684326\n",
            "Epoch [10/26], Loss: 1.0061429738998413\n",
            "Epoch [11/26], Loss: 0.9100829362869263\n",
            "Epoch [12/26], Loss: 0.8524873852729797\n",
            "Epoch [13/26], Loss: 0.8215071558952332\n",
            "Epoch [14/26], Loss: 0.8044201731681824\n",
            "Epoch [15/26], Loss: 0.7923757433891296\n",
            "Epoch [16/26], Loss: 0.7806132435798645\n",
            "Epoch [17/26], Loss: 0.7670013904571533\n",
            "Epoch [18/26], Loss: 0.7508884072303772\n",
            "Epoch [19/26], Loss: 0.732448399066925\n",
            "Epoch [20/26], Loss: 0.712380588054657\n",
            "Epoch [21/26], Loss: 0.6917696595191956\n",
            "Epoch [22/26], Loss: 0.671945333480835\n",
            "Epoch [23/26], Loss: 0.6543028354644775\n",
            "Epoch [24/26], Loss: 0.6401348114013672\n",
            "Epoch [25/26], Loss: 0.6303657293319702\n",
            "Epoch [26/26], Loss: 0.6250574588775635\n"
          ]
        }
      ]
    },
    {
      "cell_type": "code",
      "source": [
        "# Define the number of labels (excluding <PAD>)\n",
        "num_labels = 5  # S (0), B-O (1), B-N (2), I-O (3), I-N (4)\n",
        "\n",
        "# Mask to exclude padding tokens\n",
        "mask = (y_test_tensor != -1)\n",
        "\n",
        "with torch.no_grad():\n",
        "    predictions = model(X_test_tensor)  # Shape: (batch_size, seq_length, num_labels)\n",
        "    predicted_labels = torch.argmax(predictions, dim=2)  # Shape: (batch_size, seq_length)\n",
        "    # print(predicted_labels)\n",
        "\n",
        "    # Initialize counters for each label\n",
        "    correct_per_label = torch.zeros(num_labels, dtype=torch.long)\n",
        "    total_per_label = torch.zeros(num_labels, dtype=torch.long)\n",
        "\n",
        "    for label in range(num_labels):\n",
        "        # Mask for the current label\n",
        "        label_mask = (y_test_tensor == label) & mask  # True for tokens of this label (excluding <PAD>)\n",
        "\n",
        "        # Count correct predictions for the current label\n",
        "        correct_per_label[label] = ((predicted_labels == label) & label_mask).sum()\n",
        "\n",
        "        # Count total tokens for the current label\n",
        "        total_per_label[label] = label_mask.sum()\n",
        "\n",
        "    # Compute per-label accuracy\n",
        "    accuracy_per_label = correct_per_label.float() / total_per_label.float() * 100\n",
        "    accuracy_per_label[total_per_label == 0] = 0  # Avoid division by zero\n",
        "\n",
        "    # Print results\n",
        "    print(\"Per-label Accuracy (excluding <PAD>):\")\n",
        "    label_names = ['S', 'B-O', 'B-N', 'I-O', 'I-N']\n",
        "    for label, acc in enumerate(accuracy_per_label):\n",
        "        print(f\"{label_names[label]}: {acc:.2f}%\")\n",
        "\n",
        "    # Overall accuracy (optional)\n",
        "\n",
        "    total_correct = correct_per_label[1:].sum().item()\n",
        "\n",
        "    total_tokens = total_per_label.sum().item()\n",
        "    overall_accuracy = total_correct / total_tokens * 100 if total_tokens > 0 else 0\n",
        "    print(f\"Overall Test Accuracy (excluding <PAD> and S-label): {overall_accuracy:.2f}%\")\n"
      ],
      "metadata": {
        "id": "AqxP1fmmrB8g",
        "colab": {
          "base_uri": "https://localhost:8080/"
        },
        "outputId": "bb3026a1-d7f2-40d2-9922-57df9a2a1a51"
      },
      "execution_count": null,
      "outputs": [
        {
          "output_type": "stream",
          "name": "stdout",
          "text": [
            "Per-label Accuracy (excluding <PAD>):\n",
            "S: 100.00%\n",
            "B-O: 0.00%\n",
            "B-N: 0.00%\n",
            "I-O: 0.00%\n",
            "I-N: 0.00%\n",
            "Overall Test Accuracy (excluding <PAD> and S-label): 0.00%\n"
          ]
        }
      ]
    },
    {
      "cell_type": "code",
      "source": [
        "# # X_test = np.random.rand(10, 10, 50)  # Test data with 10 sequences\n",
        "# mask = (y_test_tensor != -1)\n",
        "\n",
        "# with torch.no_grad():\n",
        "#     predictions = model(X_test_tensor)\n",
        "#     predicted_labels = torch.argmax(predictions, dim=2)\n",
        "#     masked_correct = (predicted_labels == y_test_tensor) & mask  # Correct predictions only for non-padding tokens\n",
        "#     correct_tokens = masked_correct.sum().item()  # Count the correct tokens (excluding padding)\n",
        "#     total_tokens = mask.sum().item()  # Count the total number of non-padding tokens\n",
        "\n",
        "#     accuracy = correct_tokens / total_tokens * 100 if total_tokens > 0 else 0\n",
        "#     print(f\"Final Test Accuracy (excluding padding): {accuracy:.2f}%\")\n",
        "\n",
        "#     # print(\"Predicted Labels:\", predicted_labels)\n",
        "#     # total_tokens = y_test_tensor.numel()\n",
        "#     # correct_tokens = (predicted_labels == y_test_tensor).sum().item()\n",
        "#     # accuracy = correct_tokens / total_tokens * 100\n",
        "#     # print(f\"Final Test Accuracy: {accuracy:.2f}%\")"
      ],
      "metadata": {
        "id": "OZpxlznHY43k"
      },
      "execution_count": null,
      "outputs": []
    }
  ]
}